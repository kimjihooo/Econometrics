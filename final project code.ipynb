{
  "cells": [
    {
      "cell_type": "markdown",
      "metadata": {
        "id": "bKK6HTWKQtbb"
      },
      "source": [
        "# **벤처 기업의 매출 규모 예측**\n",
        "(2020년)\n",
        "\n",
        "데이터링크\n",
        "https://mdis.kostat.go.kr/ofrData/selectOfrDataDetail.do?survId=14203&itmDiv=2&nPage=3&itemId=2010&itemNm=%EA%B2%BD%EC%A0%9C%EC%9D%BC%EB%B0%98%C2%B7%EA%B2%BD%EA%B8%B0/%EA%B8%B0%EC%97%85%EA%B2%BD%EC%98%81#click"
      ]
    },
    {
      "cell_type": "markdown",
      "metadata": {
        "id": "fh44AF0BRoDF"
      },
      "source": [
        "## 데이터 불러오기"
      ]
    },
    {
      "cell_type": "code",
      "execution_count": null,
      "metadata": {
        "colab": {
          "base_uri": "https://localhost:8080/"
        },
        "id": "bZIZvrIWKCIo",
        "outputId": "d18a6a3f-5eb5-4749-f892-249b18679c87"
      },
      "outputs": [
        {
          "output_type": "stream",
          "name": "stderr",
          "text": [
            "/usr/local/lib/python3.7/dist-packages/statsmodels/tools/_testing.py:19: FutureWarning: pandas.util.testing is deprecated. Use the functions in the public API at pandas.testing instead.\n",
            "  import pandas.util.testing as tm\n"
          ]
        }
      ],
      "source": [
        "import pandas as pd\n",
        "import numpy as np\n",
        "from mpl_toolkits.mplot3d import axes3d\n",
        "\n",
        "from sklearn.preprocessing import scale\n",
        "import sklearn.linear_model as skl_lm\n",
        "from sklearn.metrics import mean_squared_error, r2_score\n",
        "import statsmodels.api as sm\n",
        "import statsmodels.formula.api as smf"
      ]
    },
    {
      "cell_type": "code",
      "metadata": {
        "id": "RViCUWNITWDT",
        "colab": {
          "base_uri": "https://localhost:8080/"
        },
        "outputId": "3c590fbf-8b04-438e-bad9-1931207077e1"
      },
      "source": [
        "import matplotlib as mpl\n",
        "import matplotlib.pyplot as plt\n",
        "import seaborn as sns\n",
        " \n",
        "%config InlineBackend.figure_format = 'retina'\n",
        " \n",
        "!apt -qq -y install fonts-nanum\n",
        " \n",
        "import matplotlib.font_manager as fm\n",
        "fontpath = '/usr/share/fonts/truetype/nanum/NanumBarunGothic.ttf'\n",
        "font = fm.FontProperties(fname=fontpath, size=9)\n",
        "plt.rc('font', family='NanumBarunGothic') \n",
        "mpl.font_manager._rebuild()"
      ],
      "execution_count": null,
      "outputs": [
        {
          "output_type": "stream",
          "name": "stdout",
          "text": [
            "The following package was automatically installed and is no longer required:\n",
            "  libnvidia-common-460\n",
            "Use 'apt autoremove' to remove it.\n",
            "The following NEW packages will be installed:\n",
            "  fonts-nanum\n",
            "0 upgraded, 1 newly installed, 0 to remove and 45 not upgraded.\n",
            "Need to get 9,604 kB of archives.\n",
            "After this operation, 29.5 MB of additional disk space will be used.\n",
            "Selecting previously unselected package fonts-nanum.\n",
            "(Reading database ... 155632 files and directories currently installed.)\n",
            "Preparing to unpack .../fonts-nanum_20170925-1_all.deb ...\n",
            "Unpacking fonts-nanum (20170925-1) ...\n",
            "Setting up fonts-nanum (20170925-1) ...\n",
            "Processing triggers for fontconfig (2.12.6-0ubuntu2) ...\n"
          ]
        }
      ]
    },
    {
      "cell_type": "code",
      "source": [
        "from google.colab import drive\n",
        "drive.mount('/content/drive')"
      ],
      "metadata": {
        "colab": {
          "base_uri": "https://localhost:8080/"
        },
        "id": "EoK_9if2jKt9",
        "outputId": "be461eb7-74c9-477a-d806-6073a36a5898"
      },
      "execution_count": null,
      "outputs": [
        {
          "output_type": "stream",
          "name": "stdout",
          "text": [
            "Mounted at /content/drive\n"
          ]
        }
      ]
    },
    {
      "cell_type": "code",
      "execution_count": null,
      "metadata": {
        "colab": {
          "base_uri": "https://localhost:8080/",
          "height": 285
        },
        "id": "7l4K4YgnKHKU",
        "outputId": "bc1a3a3e-6563-42ed-bec2-b52cfe6304e5"
      },
      "outputs": [
        {
          "output_type": "execute_result",
          "data": {
            "text/plain": [
              "   [쿼터] 규모  A2-2. 기업성장단계  B2-8. 창업 당시 창업자 실무경험 년수(년)  C1-1. 2019년 정규직_합계  \\\n",
              "0        1             1                         0.0                   2   \n",
              "1        1             1                        10.0                  19   \n",
              "2        1             1                        10.0                   2   \n",
              "3        1             1                        10.0                   2   \n",
              "4        1             1                        10.0                   4   \n",
              "\n",
              "   C3. 학력별 인력구성_대졸  D1. 지분구조(%)_창업자  D2-2. 2019년 부채(백만원)  \\\n",
              "0                1             67.0                  156   \n",
              "1               16             26.0                 7771   \n",
              "2                0              NaN                  318   \n",
              "3                2             90.0                  378   \n",
              "4                3              NaN                  155   \n",
              "\n",
              "   E2-1. 현재 등록보유 산업재산권(건)_합계  G3-1. 주력제품 국내 시장점유율(%)  \n",
              "0                          5                    2.00  \n",
              "1                          3                    1.00  \n",
              "2                          1                     NaN  \n",
              "3                         17                    0.01  \n",
              "4                          1                     NaN  "
            ],
            "text/html": [
              "\n",
              "  <div id=\"df-3a106c27-de6b-4338-bcde-388ed656ae36\">\n",
              "    <div class=\"colab-df-container\">\n",
              "      <div>\n",
              "<style scoped>\n",
              "    .dataframe tbody tr th:only-of-type {\n",
              "        vertical-align: middle;\n",
              "    }\n",
              "\n",
              "    .dataframe tbody tr th {\n",
              "        vertical-align: top;\n",
              "    }\n",
              "\n",
              "    .dataframe thead th {\n",
              "        text-align: right;\n",
              "    }\n",
              "</style>\n",
              "<table border=\"1\" class=\"dataframe\">\n",
              "  <thead>\n",
              "    <tr style=\"text-align: right;\">\n",
              "      <th></th>\n",
              "      <th>[쿼터] 규모</th>\n",
              "      <th>A2-2. 기업성장단계</th>\n",
              "      <th>B2-8. 창업 당시 창업자 실무경험 년수(년)</th>\n",
              "      <th>C1-1. 2019년 정규직_합계</th>\n",
              "      <th>C3. 학력별 인력구성_대졸</th>\n",
              "      <th>D1. 지분구조(%)_창업자</th>\n",
              "      <th>D2-2. 2019년 부채(백만원)</th>\n",
              "      <th>E2-1. 현재 등록보유 산업재산권(건)_합계</th>\n",
              "      <th>G3-1. 주력제품 국내 시장점유율(%)</th>\n",
              "    </tr>\n",
              "  </thead>\n",
              "  <tbody>\n",
              "    <tr>\n",
              "      <th>0</th>\n",
              "      <td>1</td>\n",
              "      <td>1</td>\n",
              "      <td>0.0</td>\n",
              "      <td>2</td>\n",
              "      <td>1</td>\n",
              "      <td>67.0</td>\n",
              "      <td>156</td>\n",
              "      <td>5</td>\n",
              "      <td>2.00</td>\n",
              "    </tr>\n",
              "    <tr>\n",
              "      <th>1</th>\n",
              "      <td>1</td>\n",
              "      <td>1</td>\n",
              "      <td>10.0</td>\n",
              "      <td>19</td>\n",
              "      <td>16</td>\n",
              "      <td>26.0</td>\n",
              "      <td>7771</td>\n",
              "      <td>3</td>\n",
              "      <td>1.00</td>\n",
              "    </tr>\n",
              "    <tr>\n",
              "      <th>2</th>\n",
              "      <td>1</td>\n",
              "      <td>1</td>\n",
              "      <td>10.0</td>\n",
              "      <td>2</td>\n",
              "      <td>0</td>\n",
              "      <td>NaN</td>\n",
              "      <td>318</td>\n",
              "      <td>1</td>\n",
              "      <td>NaN</td>\n",
              "    </tr>\n",
              "    <tr>\n",
              "      <th>3</th>\n",
              "      <td>1</td>\n",
              "      <td>1</td>\n",
              "      <td>10.0</td>\n",
              "      <td>2</td>\n",
              "      <td>2</td>\n",
              "      <td>90.0</td>\n",
              "      <td>378</td>\n",
              "      <td>17</td>\n",
              "      <td>0.01</td>\n",
              "    </tr>\n",
              "    <tr>\n",
              "      <th>4</th>\n",
              "      <td>1</td>\n",
              "      <td>1</td>\n",
              "      <td>10.0</td>\n",
              "      <td>4</td>\n",
              "      <td>3</td>\n",
              "      <td>NaN</td>\n",
              "      <td>155</td>\n",
              "      <td>1</td>\n",
              "      <td>NaN</td>\n",
              "    </tr>\n",
              "  </tbody>\n",
              "</table>\n",
              "</div>\n",
              "      <button class=\"colab-df-convert\" onclick=\"convertToInteractive('df-3a106c27-de6b-4338-bcde-388ed656ae36')\"\n",
              "              title=\"Convert this dataframe to an interactive table.\"\n",
              "              style=\"display:none;\">\n",
              "        \n",
              "  <svg xmlns=\"http://www.w3.org/2000/svg\" height=\"24px\"viewBox=\"0 0 24 24\"\n",
              "       width=\"24px\">\n",
              "    <path d=\"M0 0h24v24H0V0z\" fill=\"none\"/>\n",
              "    <path d=\"M18.56 5.44l.94 2.06.94-2.06 2.06-.94-2.06-.94-.94-2.06-.94 2.06-2.06.94zm-11 1L8.5 8.5l.94-2.06 2.06-.94-2.06-.94L8.5 2.5l-.94 2.06-2.06.94zm10 10l.94 2.06.94-2.06 2.06-.94-2.06-.94-.94-2.06-.94 2.06-2.06.94z\"/><path d=\"M17.41 7.96l-1.37-1.37c-.4-.4-.92-.59-1.43-.59-.52 0-1.04.2-1.43.59L10.3 9.45l-7.72 7.72c-.78.78-.78 2.05 0 2.83L4 21.41c.39.39.9.59 1.41.59.51 0 1.02-.2 1.41-.59l7.78-7.78 2.81-2.81c.8-.78.8-2.07 0-2.86zM5.41 20L4 18.59l7.72-7.72 1.47 1.35L5.41 20z\"/>\n",
              "  </svg>\n",
              "      </button>\n",
              "      \n",
              "  <style>\n",
              "    .colab-df-container {\n",
              "      display:flex;\n",
              "      flex-wrap:wrap;\n",
              "      gap: 12px;\n",
              "    }\n",
              "\n",
              "    .colab-df-convert {\n",
              "      background-color: #E8F0FE;\n",
              "      border: none;\n",
              "      border-radius: 50%;\n",
              "      cursor: pointer;\n",
              "      display: none;\n",
              "      fill: #1967D2;\n",
              "      height: 32px;\n",
              "      padding: 0 0 0 0;\n",
              "      width: 32px;\n",
              "    }\n",
              "\n",
              "    .colab-df-convert:hover {\n",
              "      background-color: #E2EBFA;\n",
              "      box-shadow: 0px 1px 2px rgba(60, 64, 67, 0.3), 0px 1px 3px 1px rgba(60, 64, 67, 0.15);\n",
              "      fill: #174EA6;\n",
              "    }\n",
              "\n",
              "    [theme=dark] .colab-df-convert {\n",
              "      background-color: #3B4455;\n",
              "      fill: #D2E3FC;\n",
              "    }\n",
              "\n",
              "    [theme=dark] .colab-df-convert:hover {\n",
              "      background-color: #434B5C;\n",
              "      box-shadow: 0px 1px 3px 1px rgba(0, 0, 0, 0.15);\n",
              "      filter: drop-shadow(0px 1px 2px rgba(0, 0, 0, 0.3));\n",
              "      fill: #FFFFFF;\n",
              "    }\n",
              "  </style>\n",
              "\n",
              "      <script>\n",
              "        const buttonEl =\n",
              "          document.querySelector('#df-3a106c27-de6b-4338-bcde-388ed656ae36 button.colab-df-convert');\n",
              "        buttonEl.style.display =\n",
              "          google.colab.kernel.accessAllowed ? 'block' : 'none';\n",
              "\n",
              "        async function convertToInteractive(key) {\n",
              "          const element = document.querySelector('#df-3a106c27-de6b-4338-bcde-388ed656ae36');\n",
              "          const dataTable =\n",
              "            await google.colab.kernel.invokeFunction('convertToInteractive',\n",
              "                                                     [key], {});\n",
              "          if (!dataTable) return;\n",
              "\n",
              "          const docLinkHtml = 'Like what you see? Visit the ' +\n",
              "            '<a target=\"_blank\" href=https://colab.research.google.com/notebooks/data_table.ipynb>data table notebook</a>'\n",
              "            + ' to learn more about interactive tables.';\n",
              "          element.innerHTML = '';\n",
              "          dataTable['output_type'] = 'display_data';\n",
              "          await google.colab.output.renderOutput(dataTable, element);\n",
              "          const docLink = document.createElement('div');\n",
              "          docLink.innerHTML = docLinkHtml;\n",
              "          element.appendChild(docLink);\n",
              "        }\n",
              "      </script>\n",
              "    </div>\n",
              "  </div>\n",
              "  "
            ]
          },
          "metadata": {},
          "execution_count": 5
        }
      ],
      "source": [
        "df = pd.read_csv('/content/drive/MyDrive/계량경제/2020_총괄_20220606_03411.csv', encoding='cp949')\n",
        "df.head()"
      ]
    },
    {
      "cell_type": "code",
      "source": [
        "df.info()"
      ],
      "metadata": {
        "colab": {
          "base_uri": "https://localhost:8080/"
        },
        "id": "eOPIo_YT4rdm",
        "outputId": "db60ec2f-cc47-4c8f-eaae-ec24266bf169"
      },
      "execution_count": null,
      "outputs": [
        {
          "output_type": "stream",
          "name": "stdout",
          "text": [
            "<class 'pandas.core.frame.DataFrame'>\n",
            "RangeIndex: 2500 entries, 0 to 2499\n",
            "Data columns (total 9 columns):\n",
            " #   Column                      Non-Null Count  Dtype  \n",
            "---  ------                      --------------  -----  \n",
            " 0   [쿼터] 규모                     2500 non-null   int64  \n",
            " 1   A2-2. 기업성장단계                2500 non-null   int64  \n",
            " 2   B2-8. 창업 당시 창업자 실무경험 년수(년)  2500 non-null   float64\n",
            " 3   C1-1. 2019년 정규직_합계          2500 non-null   int64  \n",
            " 4   C3. 학력별 인력구성_대졸             2500 non-null   int64  \n",
            " 5   D1. 지분구조(%)_창업자             2200 non-null   float64\n",
            " 6   D2-2. 2019년 부채(백만원)         2500 non-null   int64  \n",
            " 7   E2-1. 현재 등록보유 산업재산권(건)_합계   2500 non-null   int64  \n",
            " 8   G3-1. 주력제품 국내 시장점유율(%)      2200 non-null   float64\n",
            "dtypes: float64(3), int64(6)\n",
            "memory usage: 175.9 KB\n"
          ]
        }
      ]
    },
    {
      "cell_type": "markdown",
      "source": [
        "총 2500개의 데이터"
      ],
      "metadata": {
        "id": "94_fT95kX0XY"
      }
    },
    {
      "cell_type": "code",
      "execution_count": null,
      "metadata": {
        "id": "DQz8oVrtPyFh"
      },
      "outputs": [],
      "source": [
        "df.columns = ['규모', '기업성장단계','실무년수', '정규직', '대졸인력', '지분구조', '부채', '산업재산권', '시장점유율']"
      ]
    },
    {
      "cell_type": "code",
      "execution_count": null,
      "metadata": {
        "colab": {
          "base_uri": "https://localhost:8080/",
          "height": 206
        },
        "id": "a9uI-Nv8Ry71",
        "outputId": "09b803a8-c0d4-4322-d91f-00d1788d1665"
      },
      "outputs": [
        {
          "output_type": "execute_result",
          "data": {
            "text/plain": [
              "   규모  기업성장단계  실무년수  정규직  대졸인력  지분구조    부채  산업재산권  시장점유율\n",
              "0   1       1   0.0    2     1  67.0   156      5   2.00\n",
              "1   1       1  10.0   19    16  26.0  7771      3   1.00\n",
              "2   1       1  10.0    2     0   NaN   318      1    NaN\n",
              "3   1       1  10.0    2     2  90.0   378     17   0.01\n",
              "4   1       1  10.0    4     3   NaN   155      1    NaN"
            ],
            "text/html": [
              "\n",
              "  <div id=\"df-d3fa75db-1658-463d-ba12-9199463a1b55\">\n",
              "    <div class=\"colab-df-container\">\n",
              "      <div>\n",
              "<style scoped>\n",
              "    .dataframe tbody tr th:only-of-type {\n",
              "        vertical-align: middle;\n",
              "    }\n",
              "\n",
              "    .dataframe tbody tr th {\n",
              "        vertical-align: top;\n",
              "    }\n",
              "\n",
              "    .dataframe thead th {\n",
              "        text-align: right;\n",
              "    }\n",
              "</style>\n",
              "<table border=\"1\" class=\"dataframe\">\n",
              "  <thead>\n",
              "    <tr style=\"text-align: right;\">\n",
              "      <th></th>\n",
              "      <th>규모</th>\n",
              "      <th>기업성장단계</th>\n",
              "      <th>실무년수</th>\n",
              "      <th>정규직</th>\n",
              "      <th>대졸인력</th>\n",
              "      <th>지분구조</th>\n",
              "      <th>부채</th>\n",
              "      <th>산업재산권</th>\n",
              "      <th>시장점유율</th>\n",
              "    </tr>\n",
              "  </thead>\n",
              "  <tbody>\n",
              "    <tr>\n",
              "      <th>0</th>\n",
              "      <td>1</td>\n",
              "      <td>1</td>\n",
              "      <td>0.0</td>\n",
              "      <td>2</td>\n",
              "      <td>1</td>\n",
              "      <td>67.0</td>\n",
              "      <td>156</td>\n",
              "      <td>5</td>\n",
              "      <td>2.00</td>\n",
              "    </tr>\n",
              "    <tr>\n",
              "      <th>1</th>\n",
              "      <td>1</td>\n",
              "      <td>1</td>\n",
              "      <td>10.0</td>\n",
              "      <td>19</td>\n",
              "      <td>16</td>\n",
              "      <td>26.0</td>\n",
              "      <td>7771</td>\n",
              "      <td>3</td>\n",
              "      <td>1.00</td>\n",
              "    </tr>\n",
              "    <tr>\n",
              "      <th>2</th>\n",
              "      <td>1</td>\n",
              "      <td>1</td>\n",
              "      <td>10.0</td>\n",
              "      <td>2</td>\n",
              "      <td>0</td>\n",
              "      <td>NaN</td>\n",
              "      <td>318</td>\n",
              "      <td>1</td>\n",
              "      <td>NaN</td>\n",
              "    </tr>\n",
              "    <tr>\n",
              "      <th>3</th>\n",
              "      <td>1</td>\n",
              "      <td>1</td>\n",
              "      <td>10.0</td>\n",
              "      <td>2</td>\n",
              "      <td>2</td>\n",
              "      <td>90.0</td>\n",
              "      <td>378</td>\n",
              "      <td>17</td>\n",
              "      <td>0.01</td>\n",
              "    </tr>\n",
              "    <tr>\n",
              "      <th>4</th>\n",
              "      <td>1</td>\n",
              "      <td>1</td>\n",
              "      <td>10.0</td>\n",
              "      <td>4</td>\n",
              "      <td>3</td>\n",
              "      <td>NaN</td>\n",
              "      <td>155</td>\n",
              "      <td>1</td>\n",
              "      <td>NaN</td>\n",
              "    </tr>\n",
              "  </tbody>\n",
              "</table>\n",
              "</div>\n",
              "      <button class=\"colab-df-convert\" onclick=\"convertToInteractive('df-d3fa75db-1658-463d-ba12-9199463a1b55')\"\n",
              "              title=\"Convert this dataframe to an interactive table.\"\n",
              "              style=\"display:none;\">\n",
              "        \n",
              "  <svg xmlns=\"http://www.w3.org/2000/svg\" height=\"24px\"viewBox=\"0 0 24 24\"\n",
              "       width=\"24px\">\n",
              "    <path d=\"M0 0h24v24H0V0z\" fill=\"none\"/>\n",
              "    <path d=\"M18.56 5.44l.94 2.06.94-2.06 2.06-.94-2.06-.94-.94-2.06-.94 2.06-2.06.94zm-11 1L8.5 8.5l.94-2.06 2.06-.94-2.06-.94L8.5 2.5l-.94 2.06-2.06.94zm10 10l.94 2.06.94-2.06 2.06-.94-2.06-.94-.94-2.06-.94 2.06-2.06.94z\"/><path d=\"M17.41 7.96l-1.37-1.37c-.4-.4-.92-.59-1.43-.59-.52 0-1.04.2-1.43.59L10.3 9.45l-7.72 7.72c-.78.78-.78 2.05 0 2.83L4 21.41c.39.39.9.59 1.41.59.51 0 1.02-.2 1.41-.59l7.78-7.78 2.81-2.81c.8-.78.8-2.07 0-2.86zM5.41 20L4 18.59l7.72-7.72 1.47 1.35L5.41 20z\"/>\n",
              "  </svg>\n",
              "      </button>\n",
              "      \n",
              "  <style>\n",
              "    .colab-df-container {\n",
              "      display:flex;\n",
              "      flex-wrap:wrap;\n",
              "      gap: 12px;\n",
              "    }\n",
              "\n",
              "    .colab-df-convert {\n",
              "      background-color: #E8F0FE;\n",
              "      border: none;\n",
              "      border-radius: 50%;\n",
              "      cursor: pointer;\n",
              "      display: none;\n",
              "      fill: #1967D2;\n",
              "      height: 32px;\n",
              "      padding: 0 0 0 0;\n",
              "      width: 32px;\n",
              "    }\n",
              "\n",
              "    .colab-df-convert:hover {\n",
              "      background-color: #E2EBFA;\n",
              "      box-shadow: 0px 1px 2px rgba(60, 64, 67, 0.3), 0px 1px 3px 1px rgba(60, 64, 67, 0.15);\n",
              "      fill: #174EA6;\n",
              "    }\n",
              "\n",
              "    [theme=dark] .colab-df-convert {\n",
              "      background-color: #3B4455;\n",
              "      fill: #D2E3FC;\n",
              "    }\n",
              "\n",
              "    [theme=dark] .colab-df-convert:hover {\n",
              "      background-color: #434B5C;\n",
              "      box-shadow: 0px 1px 3px 1px rgba(0, 0, 0, 0.15);\n",
              "      filter: drop-shadow(0px 1px 2px rgba(0, 0, 0, 0.3));\n",
              "      fill: #FFFFFF;\n",
              "    }\n",
              "  </style>\n",
              "\n",
              "      <script>\n",
              "        const buttonEl =\n",
              "          document.querySelector('#df-d3fa75db-1658-463d-ba12-9199463a1b55 button.colab-df-convert');\n",
              "        buttonEl.style.display =\n",
              "          google.colab.kernel.accessAllowed ? 'block' : 'none';\n",
              "\n",
              "        async function convertToInteractive(key) {\n",
              "          const element = document.querySelector('#df-d3fa75db-1658-463d-ba12-9199463a1b55');\n",
              "          const dataTable =\n",
              "            await google.colab.kernel.invokeFunction('convertToInteractive',\n",
              "                                                     [key], {});\n",
              "          if (!dataTable) return;\n",
              "\n",
              "          const docLinkHtml = 'Like what you see? Visit the ' +\n",
              "            '<a target=\"_blank\" href=https://colab.research.google.com/notebooks/data_table.ipynb>data table notebook</a>'\n",
              "            + ' to learn more about interactive tables.';\n",
              "          element.innerHTML = '';\n",
              "          dataTable['output_type'] = 'display_data';\n",
              "          await google.colab.output.renderOutput(dataTable, element);\n",
              "          const docLink = document.createElement('div');\n",
              "          docLink.innerHTML = docLinkHtml;\n",
              "          element.appendChild(docLink);\n",
              "        }\n",
              "      </script>\n",
              "    </div>\n",
              "  </div>\n",
              "  "
            ]
          },
          "metadata": {},
          "execution_count": 8
        }
      ],
      "source": [
        "df.head()"
      ]
    },
    {
      "cell_type": "code",
      "execution_count": null,
      "metadata": {
        "colab": {
          "base_uri": "https://localhost:8080/"
        },
        "id": "iZliAGa6QEaK",
        "outputId": "7895f6c5-2067-41bd-87f8-caa58f18eb88"
      },
      "outputs": [
        {
          "output_type": "stream",
          "name": "stdout",
          "text": [
            "<class 'pandas.core.frame.DataFrame'>\n",
            "RangeIndex: 2500 entries, 0 to 2499\n",
            "Data columns (total 9 columns):\n",
            " #   Column  Non-Null Count  Dtype  \n",
            "---  ------  --------------  -----  \n",
            " 0   규모      2500 non-null   int64  \n",
            " 1   기업성장단계  2500 non-null   int64  \n",
            " 2   실무년수    2500 non-null   float64\n",
            " 3   정규직     2500 non-null   int64  \n",
            " 4   대졸인력    2500 non-null   int64  \n",
            " 5   지분구조    2200 non-null   float64\n",
            " 6   부채      2500 non-null   int64  \n",
            " 7   산업재산권   2500 non-null   int64  \n",
            " 8   시장점유율   2200 non-null   float64\n",
            "dtypes: float64(3), int64(6)\n",
            "memory usage: 175.9 KB\n"
          ]
        }
      ],
      "source": [
        "df.info()"
      ]
    },
    {
      "cell_type": "markdown",
      "source": [
        "## 전처리 \n",
        "결측치 median으로"
      ],
      "metadata": {
        "id": "fEy5PDzAn_gQ"
      }
    },
    {
      "cell_type": "code",
      "source": [
        "df['지분구조'].fillna((df['지분구조'].median()), inplace=True)"
      ],
      "metadata": {
        "id": "DAUXPGvKoCd9"
      },
      "execution_count": null,
      "outputs": []
    },
    {
      "cell_type": "code",
      "source": [
        "df['시장점유율'].fillna((df['시장점유율'].median()), inplace=True)"
      ],
      "metadata": {
        "id": "1yuxsNFGouov"
      },
      "execution_count": null,
      "outputs": []
    },
    {
      "cell_type": "code",
      "source": [
        "df.isna().sum().sum()"
      ],
      "metadata": {
        "colab": {
          "base_uri": "https://localhost:8080/"
        },
        "id": "DVeWWoRfo3Sv",
        "outputId": "33923b13-ec97-4ca2-dd07-bedd7cb1d12d"
      },
      "execution_count": null,
      "outputs": [
        {
          "output_type": "execute_result",
          "data": {
            "text/plain": [
              "0"
            ]
          },
          "metadata": {},
          "execution_count": 12
        }
      ]
    },
    {
      "cell_type": "code",
      "source": [
        "df[\"규모\"] = df[\"규모\"].replace(1,1)\n",
        "df[\"규모\"] = df[\"규모\"].replace(2,5)\n",
        "df[\"규모\"] = df[\"규모\"].replace(3,20)\n",
        "df[\"규모\"] = df[\"규모\"].replace(4,50)\n",
        "df[\"규모\"] = df[\"규모\"].replace(5,80)\n",
        "df[\"규모\"] = df[\"규모\"].replace(6,120)\n",
        "df[\"규모\"] = df[\"규모\"].replace(7,200)\n",
        "df[\"규모\"] = df[\"규모\"].replace(8,500)"
      ],
      "metadata": {
        "id": "SU1cTge1HeBf"
      },
      "execution_count": null,
      "outputs": []
    },
    {
      "cell_type": "code",
      "execution_count": null,
      "metadata": {
        "colab": {
          "base_uri": "https://localhost:8080/"
        },
        "outputId": "e1dfea92-25eb-4b71-cd4e-b45f02470839",
        "id": "vKy4t0JCqXNT"
      },
      "outputs": [
        {
          "output_type": "execute_result",
          "data": {
            "text/plain": [
              "80     661\n",
              "20     406\n",
              "200    334\n",
              "50     316\n",
              "1      286\n",
              "120    277\n",
              "500    220\n",
              "Name: 규모, dtype: int64"
            ]
          },
          "metadata": {},
          "execution_count": 15
        }
      ],
      "source": [
        "df['규모'].value_counts() # y 매출규모"
      ]
    },
    {
      "cell_type": "code",
      "source": [
        "df.info()"
      ],
      "metadata": {
        "colab": {
          "base_uri": "https://localhost:8080/"
        },
        "id": "jIe29zCItm62",
        "outputId": "99b3b804-e6e0-44ec-ee72-693665c272e7"
      },
      "execution_count": null,
      "outputs": [
        {
          "output_type": "stream",
          "name": "stdout",
          "text": [
            "<class 'pandas.core.frame.DataFrame'>\n",
            "RangeIndex: 2500 entries, 0 to 2499\n",
            "Data columns (total 9 columns):\n",
            " #   Column  Non-Null Count  Dtype  \n",
            "---  ------  --------------  -----  \n",
            " 0   규모      2500 non-null   int64  \n",
            " 1   기업성장단계  2500 non-null   int64  \n",
            " 2   실무년수    2500 non-null   float64\n",
            " 3   정규직     2500 non-null   int64  \n",
            " 4   대졸인력    2500 non-null   int64  \n",
            " 5   지분구조    2500 non-null   float64\n",
            " 6   부채      2500 non-null   int64  \n",
            " 7   산업재산권   2500 non-null   int64  \n",
            " 8   시장점유율   2500 non-null   float64\n",
            "dtypes: float64(3), int64(6)\n",
            "memory usage: 175.9 KB\n"
          ]
        }
      ]
    },
    {
      "cell_type": "code",
      "source": [
        "df.describe()"
      ],
      "metadata": {
        "colab": {
          "base_uri": "https://localhost:8080/",
          "height": 382
        },
        "id": "f2vp-KrgXhuj",
        "outputId": "3e9e4470-634e-428d-86f7-0f28b6b81463"
      },
      "execution_count": null,
      "outputs": [
        {
          "output_type": "execute_result",
          "data": {
            "text/plain": [
              "                규모       기업성장단계         실무년수          정규직         대졸인력  \\\n",
              "count  2500.000000  2500.000000  2500.000000  2500.000000  2500.000000   \n",
              "mean    114.850400     3.261200    10.531960    47.598800    21.310800   \n",
              "std     133.526296     0.824892     6.982106    64.395016    32.537438   \n",
              "min       1.000000     1.000000     0.000000     1.000000     0.000000   \n",
              "25%      20.000000     3.000000     5.000000    10.000000     4.000000   \n",
              "50%      80.000000     3.000000    10.000000    23.000000    10.000000   \n",
              "75%     120.000000     4.000000    15.000000    57.000000    24.000000   \n",
              "max     500.000000     5.000000    40.000000   658.000000   490.000000   \n",
              "\n",
              "              지분구조             부채        산업재산권        시장점유율  \n",
              "count  2500.000000    2500.000000  2500.000000  2500.000000  \n",
              "mean     56.468720    8755.375200    11.918800     4.770828  \n",
              "std      29.362204   18476.688633    23.439709     9.256763  \n",
              "min       0.000000       0.000000     0.000000     0.000000  \n",
              "25%      40.000000     933.000000     1.000000     0.100000  \n",
              "50%      55.000000    3008.500000     4.000000     1.000000  \n",
              "75%      80.000000    7883.000000    12.000000     5.000000  \n",
              "max     100.000000  380473.000000   230.000000    80.000000  "
            ],
            "text/html": [
              "\n",
              "  <div id=\"df-e9c3925d-d829-47a1-a7d4-880cc6054d71\">\n",
              "    <div class=\"colab-df-container\">\n",
              "      <div>\n",
              "<style scoped>\n",
              "    .dataframe tbody tr th:only-of-type {\n",
              "        vertical-align: middle;\n",
              "    }\n",
              "\n",
              "    .dataframe tbody tr th {\n",
              "        vertical-align: top;\n",
              "    }\n",
              "\n",
              "    .dataframe thead th {\n",
              "        text-align: right;\n",
              "    }\n",
              "</style>\n",
              "<table border=\"1\" class=\"dataframe\">\n",
              "  <thead>\n",
              "    <tr style=\"text-align: right;\">\n",
              "      <th></th>\n",
              "      <th>규모</th>\n",
              "      <th>기업성장단계</th>\n",
              "      <th>실무년수</th>\n",
              "      <th>정규직</th>\n",
              "      <th>대졸인력</th>\n",
              "      <th>지분구조</th>\n",
              "      <th>부채</th>\n",
              "      <th>산업재산권</th>\n",
              "      <th>시장점유율</th>\n",
              "    </tr>\n",
              "  </thead>\n",
              "  <tbody>\n",
              "    <tr>\n",
              "      <th>count</th>\n",
              "      <td>2500.000000</td>\n",
              "      <td>2500.000000</td>\n",
              "      <td>2500.000000</td>\n",
              "      <td>2500.000000</td>\n",
              "      <td>2500.000000</td>\n",
              "      <td>2500.000000</td>\n",
              "      <td>2500.000000</td>\n",
              "      <td>2500.000000</td>\n",
              "      <td>2500.000000</td>\n",
              "    </tr>\n",
              "    <tr>\n",
              "      <th>mean</th>\n",
              "      <td>114.850400</td>\n",
              "      <td>3.261200</td>\n",
              "      <td>10.531960</td>\n",
              "      <td>47.598800</td>\n",
              "      <td>21.310800</td>\n",
              "      <td>56.468720</td>\n",
              "      <td>8755.375200</td>\n",
              "      <td>11.918800</td>\n",
              "      <td>4.770828</td>\n",
              "    </tr>\n",
              "    <tr>\n",
              "      <th>std</th>\n",
              "      <td>133.526296</td>\n",
              "      <td>0.824892</td>\n",
              "      <td>6.982106</td>\n",
              "      <td>64.395016</td>\n",
              "      <td>32.537438</td>\n",
              "      <td>29.362204</td>\n",
              "      <td>18476.688633</td>\n",
              "      <td>23.439709</td>\n",
              "      <td>9.256763</td>\n",
              "    </tr>\n",
              "    <tr>\n",
              "      <th>min</th>\n",
              "      <td>1.000000</td>\n",
              "      <td>1.000000</td>\n",
              "      <td>0.000000</td>\n",
              "      <td>1.000000</td>\n",
              "      <td>0.000000</td>\n",
              "      <td>0.000000</td>\n",
              "      <td>0.000000</td>\n",
              "      <td>0.000000</td>\n",
              "      <td>0.000000</td>\n",
              "    </tr>\n",
              "    <tr>\n",
              "      <th>25%</th>\n",
              "      <td>20.000000</td>\n",
              "      <td>3.000000</td>\n",
              "      <td>5.000000</td>\n",
              "      <td>10.000000</td>\n",
              "      <td>4.000000</td>\n",
              "      <td>40.000000</td>\n",
              "      <td>933.000000</td>\n",
              "      <td>1.000000</td>\n",
              "      <td>0.100000</td>\n",
              "    </tr>\n",
              "    <tr>\n",
              "      <th>50%</th>\n",
              "      <td>80.000000</td>\n",
              "      <td>3.000000</td>\n",
              "      <td>10.000000</td>\n",
              "      <td>23.000000</td>\n",
              "      <td>10.000000</td>\n",
              "      <td>55.000000</td>\n",
              "      <td>3008.500000</td>\n",
              "      <td>4.000000</td>\n",
              "      <td>1.000000</td>\n",
              "    </tr>\n",
              "    <tr>\n",
              "      <th>75%</th>\n",
              "      <td>120.000000</td>\n",
              "      <td>4.000000</td>\n",
              "      <td>15.000000</td>\n",
              "      <td>57.000000</td>\n",
              "      <td>24.000000</td>\n",
              "      <td>80.000000</td>\n",
              "      <td>7883.000000</td>\n",
              "      <td>12.000000</td>\n",
              "      <td>5.000000</td>\n",
              "    </tr>\n",
              "    <tr>\n",
              "      <th>max</th>\n",
              "      <td>500.000000</td>\n",
              "      <td>5.000000</td>\n",
              "      <td>40.000000</td>\n",
              "      <td>658.000000</td>\n",
              "      <td>490.000000</td>\n",
              "      <td>100.000000</td>\n",
              "      <td>380473.000000</td>\n",
              "      <td>230.000000</td>\n",
              "      <td>80.000000</td>\n",
              "    </tr>\n",
              "  </tbody>\n",
              "</table>\n",
              "</div>\n",
              "      <button class=\"colab-df-convert\" onclick=\"convertToInteractive('df-e9c3925d-d829-47a1-a7d4-880cc6054d71')\"\n",
              "              title=\"Convert this dataframe to an interactive table.\"\n",
              "              style=\"display:none;\">\n",
              "        \n",
              "  <svg xmlns=\"http://www.w3.org/2000/svg\" height=\"24px\"viewBox=\"0 0 24 24\"\n",
              "       width=\"24px\">\n",
              "    <path d=\"M0 0h24v24H0V0z\" fill=\"none\"/>\n",
              "    <path d=\"M18.56 5.44l.94 2.06.94-2.06 2.06-.94-2.06-.94-.94-2.06-.94 2.06-2.06.94zm-11 1L8.5 8.5l.94-2.06 2.06-.94-2.06-.94L8.5 2.5l-.94 2.06-2.06.94zm10 10l.94 2.06.94-2.06 2.06-.94-2.06-.94-.94-2.06-.94 2.06-2.06.94z\"/><path d=\"M17.41 7.96l-1.37-1.37c-.4-.4-.92-.59-1.43-.59-.52 0-1.04.2-1.43.59L10.3 9.45l-7.72 7.72c-.78.78-.78 2.05 0 2.83L4 21.41c.39.39.9.59 1.41.59.51 0 1.02-.2 1.41-.59l7.78-7.78 2.81-2.81c.8-.78.8-2.07 0-2.86zM5.41 20L4 18.59l7.72-7.72 1.47 1.35L5.41 20z\"/>\n",
              "  </svg>\n",
              "      </button>\n",
              "      \n",
              "  <style>\n",
              "    .colab-df-container {\n",
              "      display:flex;\n",
              "      flex-wrap:wrap;\n",
              "      gap: 12px;\n",
              "    }\n",
              "\n",
              "    .colab-df-convert {\n",
              "      background-color: #E8F0FE;\n",
              "      border: none;\n",
              "      border-radius: 50%;\n",
              "      cursor: pointer;\n",
              "      display: none;\n",
              "      fill: #1967D2;\n",
              "      height: 32px;\n",
              "      padding: 0 0 0 0;\n",
              "      width: 32px;\n",
              "    }\n",
              "\n",
              "    .colab-df-convert:hover {\n",
              "      background-color: #E2EBFA;\n",
              "      box-shadow: 0px 1px 2px rgba(60, 64, 67, 0.3), 0px 1px 3px 1px rgba(60, 64, 67, 0.15);\n",
              "      fill: #174EA6;\n",
              "    }\n",
              "\n",
              "    [theme=dark] .colab-df-convert {\n",
              "      background-color: #3B4455;\n",
              "      fill: #D2E3FC;\n",
              "    }\n",
              "\n",
              "    [theme=dark] .colab-df-convert:hover {\n",
              "      background-color: #434B5C;\n",
              "      box-shadow: 0px 1px 3px 1px rgba(0, 0, 0, 0.15);\n",
              "      filter: drop-shadow(0px 1px 2px rgba(0, 0, 0, 0.3));\n",
              "      fill: #FFFFFF;\n",
              "    }\n",
              "  </style>\n",
              "\n",
              "      <script>\n",
              "        const buttonEl =\n",
              "          document.querySelector('#df-e9c3925d-d829-47a1-a7d4-880cc6054d71 button.colab-df-convert');\n",
              "        buttonEl.style.display =\n",
              "          google.colab.kernel.accessAllowed ? 'block' : 'none';\n",
              "\n",
              "        async function convertToInteractive(key) {\n",
              "          const element = document.querySelector('#df-e9c3925d-d829-47a1-a7d4-880cc6054d71');\n",
              "          const dataTable =\n",
              "            await google.colab.kernel.invokeFunction('convertToInteractive',\n",
              "                                                     [key], {});\n",
              "          if (!dataTable) return;\n",
              "\n",
              "          const docLinkHtml = 'Like what you see? Visit the ' +\n",
              "            '<a target=\"_blank\" href=https://colab.research.google.com/notebooks/data_table.ipynb>data table notebook</a>'\n",
              "            + ' to learn more about interactive tables.';\n",
              "          element.innerHTML = '';\n",
              "          dataTable['output_type'] = 'display_data';\n",
              "          await google.colab.output.renderOutput(dataTable, element);\n",
              "          const docLink = document.createElement('div');\n",
              "          docLink.innerHTML = docLinkHtml;\n",
              "          element.appendChild(docLink);\n",
              "        }\n",
              "      </script>\n",
              "    </div>\n",
              "  </div>\n",
              "  "
            ]
          },
          "metadata": {},
          "execution_count": 17
        }
      ]
    },
    {
      "cell_type": "markdown",
      "source": [
        "## 선형 모델링"
      ],
      "metadata": {
        "id": "PpqP0Zu5W-xZ"
      }
    },
    {
      "cell_type": "markdown",
      "metadata": {
        "id": "eqZrB3hIOOjG"
      },
      "source": [
        "### Simple Linear Regression"
      ]
    },
    {
      "cell_type": "code",
      "execution_count": null,
      "metadata": {
        "colab": {
          "base_uri": "https://localhost:8080/"
        },
        "id": "sTFCkh_WONfs",
        "outputId": "482cd8cc-8d82-4d3b-b36d-63079c9a3409"
      },
      "outputs": [
        {
          "output_type": "stream",
          "name": "stdout",
          "text": [
            "                            OLS Regression Results                            \n",
            "==============================================================================\n",
            "Dep. Variable:                     규모   R-squared:                       0.459\n",
            "Model:                            OLS   Adj. R-squared:                  0.458\n",
            "Method:                 Least Squares   F-statistic:                     438.4\n",
            "Date:                Mon, 06 Jun 2022   Prob (F-statistic):           8.18e-90\n",
            "Time:                        15:06:46   Log-Likelihood:                -15016.\n",
            "No. Observations:                2500   AIC:                         3.004e+04\n",
            "Df Residuals:                    2498   BIC:                         3.005e+04\n",
            "Df Model:                           1                                         \n",
            "Covariance Type:                  HC0                                         \n",
            "==============================================================================\n",
            "                 coef    std err          z      P>|z|      [0.025      0.975]\n",
            "------------------------------------------------------------------------------\n",
            "const         48.0107      2.878     16.683      0.000      42.370      53.651\n",
            "정규직            1.4042      0.067     20.937      0.000       1.273       1.536\n",
            "==============================================================================\n",
            "Omnibus:                      919.297   Durbin-Watson:                   0.808\n",
            "Prob(Omnibus):                  0.000   Jarque-Bera (JB):             5344.531\n",
            "Skew:                           1.629   Prob(JB):                         0.00\n",
            "Kurtosis:                       9.379   Cond. No.                         99.6\n",
            "==============================================================================\n",
            "\n",
            "Warnings:\n",
            "[1] Standard Errors are heteroscedasticity robust (HC0)\n"
          ]
        },
        {
          "output_type": "stream",
          "name": "stderr",
          "text": [
            "/usr/local/lib/python3.7/dist-packages/statsmodels/tsa/tsatools.py:117: FutureWarning: In a future version of pandas all arguments of concat except for the argument 'objs' will be keyword-only\n",
            "  x = pd.concat(x[::order], 1)\n"
          ]
        }
      ],
      "source": [
        "  # simple linear regressor as reference\n",
        "X = df['정규직'] # student teacher ratio\n",
        "y = df['규모'] # test score\n",
        "\n",
        "X = sm.add_constant(X) # adding a constant\n",
        "\n",
        "model = sm.OLS(y, X).fit(cov_type='HC0')\n",
        "\n",
        "print_model = model.summary()\n",
        "print(print_model)"
      ]
    },
    {
      "cell_type": "markdown",
      "source": [
        "- R-squared:                       0.459"
      ],
      "metadata": {
        "id": "B3pj7pqEb-WF"
      }
    },
    {
      "cell_type": "markdown",
      "metadata": {
        "id": "imDULMTAOoa4"
      },
      "source": [
        "### Multiple Linear Regression\n",
        "\n",
        "insiginficant 한 변수 삭제하는 방법 사용\n",
        "\n",
        "reject 하면 impact가 있는 거임"
      ]
    },
    {
      "cell_type": "code",
      "execution_count": null,
      "metadata": {
        "colab": {
          "base_uri": "https://localhost:8080/",
          "height": 376
        },
        "id": "Ebyoew_WOfSk",
        "outputId": "0f55cb63-3674-4ce6-c6cb-3d6bd00ea648"
      },
      "outputs": [
        {
          "output_type": "execute_result",
          "data": {
            "text/plain": [
              "              규모    기업성장단계      실무년수       정규직      대졸인력      지분구조        부채  \\\n",
              "규모      1.000000  0.209011 -0.062053  0.677211  0.543602 -0.276463  0.597278   \n",
              "기업성장단계  0.209011  1.000000 -0.077140  0.209930  0.149435 -0.166323  0.151444   \n",
              "실무년수   -0.062053 -0.077140  1.000000 -0.061976 -0.095243  0.001093 -0.026302   \n",
              "정규직     0.677211  0.209930 -0.061976  1.000000  0.832971 -0.301760  0.606100   \n",
              "대졸인력    0.543602  0.149435 -0.095243  0.832971  1.000000 -0.255811  0.440795   \n",
              "지분구조   -0.276463 -0.166323  0.001093 -0.301760 -0.255811  1.000000 -0.234827   \n",
              "부채      0.597278  0.151444 -0.026302  0.606100  0.440795 -0.234827  1.000000   \n",
              "산업재산권   0.344966  0.172377 -0.044968  0.374682  0.251024 -0.206682  0.335721   \n",
              "시장점유율   0.207235  0.017568  0.048657  0.194368  0.079365 -0.080373  0.179995   \n",
              "\n",
              "           산업재산권     시장점유율  \n",
              "규모      0.344966  0.207235  \n",
              "기업성장단계  0.172377  0.017568  \n",
              "실무년수   -0.044968  0.048657  \n",
              "정규직     0.374682  0.194368  \n",
              "대졸인력    0.251024  0.079365  \n",
              "지분구조   -0.206682 -0.080373  \n",
              "부채      0.335721  0.179995  \n",
              "산업재산권   1.000000  0.164406  \n",
              "시장점유율   0.164406  1.000000  "
            ],
            "text/html": [
              "\n",
              "  <div id=\"df-3ec90316-0d0d-48de-934b-f9ded1f02d79\">\n",
              "    <div class=\"colab-df-container\">\n",
              "      <div>\n",
              "<style scoped>\n",
              "    .dataframe tbody tr th:only-of-type {\n",
              "        vertical-align: middle;\n",
              "    }\n",
              "\n",
              "    .dataframe tbody tr th {\n",
              "        vertical-align: top;\n",
              "    }\n",
              "\n",
              "    .dataframe thead th {\n",
              "        text-align: right;\n",
              "    }\n",
              "</style>\n",
              "<table border=\"1\" class=\"dataframe\">\n",
              "  <thead>\n",
              "    <tr style=\"text-align: right;\">\n",
              "      <th></th>\n",
              "      <th>규모</th>\n",
              "      <th>기업성장단계</th>\n",
              "      <th>실무년수</th>\n",
              "      <th>정규직</th>\n",
              "      <th>대졸인력</th>\n",
              "      <th>지분구조</th>\n",
              "      <th>부채</th>\n",
              "      <th>산업재산권</th>\n",
              "      <th>시장점유율</th>\n",
              "    </tr>\n",
              "  </thead>\n",
              "  <tbody>\n",
              "    <tr>\n",
              "      <th>규모</th>\n",
              "      <td>1.000000</td>\n",
              "      <td>0.209011</td>\n",
              "      <td>-0.062053</td>\n",
              "      <td>0.677211</td>\n",
              "      <td>0.543602</td>\n",
              "      <td>-0.276463</td>\n",
              "      <td>0.597278</td>\n",
              "      <td>0.344966</td>\n",
              "      <td>0.207235</td>\n",
              "    </tr>\n",
              "    <tr>\n",
              "      <th>기업성장단계</th>\n",
              "      <td>0.209011</td>\n",
              "      <td>1.000000</td>\n",
              "      <td>-0.077140</td>\n",
              "      <td>0.209930</td>\n",
              "      <td>0.149435</td>\n",
              "      <td>-0.166323</td>\n",
              "      <td>0.151444</td>\n",
              "      <td>0.172377</td>\n",
              "      <td>0.017568</td>\n",
              "    </tr>\n",
              "    <tr>\n",
              "      <th>실무년수</th>\n",
              "      <td>-0.062053</td>\n",
              "      <td>-0.077140</td>\n",
              "      <td>1.000000</td>\n",
              "      <td>-0.061976</td>\n",
              "      <td>-0.095243</td>\n",
              "      <td>0.001093</td>\n",
              "      <td>-0.026302</td>\n",
              "      <td>-0.044968</td>\n",
              "      <td>0.048657</td>\n",
              "    </tr>\n",
              "    <tr>\n",
              "      <th>정규직</th>\n",
              "      <td>0.677211</td>\n",
              "      <td>0.209930</td>\n",
              "      <td>-0.061976</td>\n",
              "      <td>1.000000</td>\n",
              "      <td>0.832971</td>\n",
              "      <td>-0.301760</td>\n",
              "      <td>0.606100</td>\n",
              "      <td>0.374682</td>\n",
              "      <td>0.194368</td>\n",
              "    </tr>\n",
              "    <tr>\n",
              "      <th>대졸인력</th>\n",
              "      <td>0.543602</td>\n",
              "      <td>0.149435</td>\n",
              "      <td>-0.095243</td>\n",
              "      <td>0.832971</td>\n",
              "      <td>1.000000</td>\n",
              "      <td>-0.255811</td>\n",
              "      <td>0.440795</td>\n",
              "      <td>0.251024</td>\n",
              "      <td>0.079365</td>\n",
              "    </tr>\n",
              "    <tr>\n",
              "      <th>지분구조</th>\n",
              "      <td>-0.276463</td>\n",
              "      <td>-0.166323</td>\n",
              "      <td>0.001093</td>\n",
              "      <td>-0.301760</td>\n",
              "      <td>-0.255811</td>\n",
              "      <td>1.000000</td>\n",
              "      <td>-0.234827</td>\n",
              "      <td>-0.206682</td>\n",
              "      <td>-0.080373</td>\n",
              "    </tr>\n",
              "    <tr>\n",
              "      <th>부채</th>\n",
              "      <td>0.597278</td>\n",
              "      <td>0.151444</td>\n",
              "      <td>-0.026302</td>\n",
              "      <td>0.606100</td>\n",
              "      <td>0.440795</td>\n",
              "      <td>-0.234827</td>\n",
              "      <td>1.000000</td>\n",
              "      <td>0.335721</td>\n",
              "      <td>0.179995</td>\n",
              "    </tr>\n",
              "    <tr>\n",
              "      <th>산업재산권</th>\n",
              "      <td>0.344966</td>\n",
              "      <td>0.172377</td>\n",
              "      <td>-0.044968</td>\n",
              "      <td>0.374682</td>\n",
              "      <td>0.251024</td>\n",
              "      <td>-0.206682</td>\n",
              "      <td>0.335721</td>\n",
              "      <td>1.000000</td>\n",
              "      <td>0.164406</td>\n",
              "    </tr>\n",
              "    <tr>\n",
              "      <th>시장점유율</th>\n",
              "      <td>0.207235</td>\n",
              "      <td>0.017568</td>\n",
              "      <td>0.048657</td>\n",
              "      <td>0.194368</td>\n",
              "      <td>0.079365</td>\n",
              "      <td>-0.080373</td>\n",
              "      <td>0.179995</td>\n",
              "      <td>0.164406</td>\n",
              "      <td>1.000000</td>\n",
              "    </tr>\n",
              "  </tbody>\n",
              "</table>\n",
              "</div>\n",
              "      <button class=\"colab-df-convert\" onclick=\"convertToInteractive('df-3ec90316-0d0d-48de-934b-f9ded1f02d79')\"\n",
              "              title=\"Convert this dataframe to an interactive table.\"\n",
              "              style=\"display:none;\">\n",
              "        \n",
              "  <svg xmlns=\"http://www.w3.org/2000/svg\" height=\"24px\"viewBox=\"0 0 24 24\"\n",
              "       width=\"24px\">\n",
              "    <path d=\"M0 0h24v24H0V0z\" fill=\"none\"/>\n",
              "    <path d=\"M18.56 5.44l.94 2.06.94-2.06 2.06-.94-2.06-.94-.94-2.06-.94 2.06-2.06.94zm-11 1L8.5 8.5l.94-2.06 2.06-.94-2.06-.94L8.5 2.5l-.94 2.06-2.06.94zm10 10l.94 2.06.94-2.06 2.06-.94-2.06-.94-.94-2.06-.94 2.06-2.06.94z\"/><path d=\"M17.41 7.96l-1.37-1.37c-.4-.4-.92-.59-1.43-.59-.52 0-1.04.2-1.43.59L10.3 9.45l-7.72 7.72c-.78.78-.78 2.05 0 2.83L4 21.41c.39.39.9.59 1.41.59.51 0 1.02-.2 1.41-.59l7.78-7.78 2.81-2.81c.8-.78.8-2.07 0-2.86zM5.41 20L4 18.59l7.72-7.72 1.47 1.35L5.41 20z\"/>\n",
              "  </svg>\n",
              "      </button>\n",
              "      \n",
              "  <style>\n",
              "    .colab-df-container {\n",
              "      display:flex;\n",
              "      flex-wrap:wrap;\n",
              "      gap: 12px;\n",
              "    }\n",
              "\n",
              "    .colab-df-convert {\n",
              "      background-color: #E8F0FE;\n",
              "      border: none;\n",
              "      border-radius: 50%;\n",
              "      cursor: pointer;\n",
              "      display: none;\n",
              "      fill: #1967D2;\n",
              "      height: 32px;\n",
              "      padding: 0 0 0 0;\n",
              "      width: 32px;\n",
              "    }\n",
              "\n",
              "    .colab-df-convert:hover {\n",
              "      background-color: #E2EBFA;\n",
              "      box-shadow: 0px 1px 2px rgba(60, 64, 67, 0.3), 0px 1px 3px 1px rgba(60, 64, 67, 0.15);\n",
              "      fill: #174EA6;\n",
              "    }\n",
              "\n",
              "    [theme=dark] .colab-df-convert {\n",
              "      background-color: #3B4455;\n",
              "      fill: #D2E3FC;\n",
              "    }\n",
              "\n",
              "    [theme=dark] .colab-df-convert:hover {\n",
              "      background-color: #434B5C;\n",
              "      box-shadow: 0px 1px 3px 1px rgba(0, 0, 0, 0.15);\n",
              "      filter: drop-shadow(0px 1px 2px rgba(0, 0, 0, 0.3));\n",
              "      fill: #FFFFFF;\n",
              "    }\n",
              "  </style>\n",
              "\n",
              "      <script>\n",
              "        const buttonEl =\n",
              "          document.querySelector('#df-3ec90316-0d0d-48de-934b-f9ded1f02d79 button.colab-df-convert');\n",
              "        buttonEl.style.display =\n",
              "          google.colab.kernel.accessAllowed ? 'block' : 'none';\n",
              "\n",
              "        async function convertToInteractive(key) {\n",
              "          const element = document.querySelector('#df-3ec90316-0d0d-48de-934b-f9ded1f02d79');\n",
              "          const dataTable =\n",
              "            await google.colab.kernel.invokeFunction('convertToInteractive',\n",
              "                                                     [key], {});\n",
              "          if (!dataTable) return;\n",
              "\n",
              "          const docLinkHtml = 'Like what you see? Visit the ' +\n",
              "            '<a target=\"_blank\" href=https://colab.research.google.com/notebooks/data_table.ipynb>data table notebook</a>'\n",
              "            + ' to learn more about interactive tables.';\n",
              "          element.innerHTML = '';\n",
              "          dataTable['output_type'] = 'display_data';\n",
              "          await google.colab.output.renderOutput(dataTable, element);\n",
              "          const docLink = document.createElement('div');\n",
              "          docLink.innerHTML = docLinkHtml;\n",
              "          element.appendChild(docLink);\n",
              "        }\n",
              "      </script>\n",
              "    </div>\n",
              "  </div>\n",
              "  "
            ]
          },
          "metadata": {},
          "execution_count": 19
        }
      ],
      "source": [
        "df.corr()"
      ]
    },
    {
      "cell_type": "code",
      "source": [
        "# 모든 변수\n",
        "robust_est = smf.ols('규모 ~ 실무년수+정규직+대졸인력+산업재산권+기업성장단계+부채+지분구조+시장점유율', df).fit(cov_type='HC0')\n",
        "print(robust_est.summary())"
      ],
      "metadata": {
        "colab": {
          "base_uri": "https://localhost:8080/"
        },
        "id": "yX2qkrRsueAJ",
        "outputId": "7d7203e0-6927-4ec0-a28e-7fbfa6d2ff06"
      },
      "execution_count": null,
      "outputs": [
        {
          "output_type": "stream",
          "name": "stdout",
          "text": [
            "                            OLS Regression Results                            \n",
            "==============================================================================\n",
            "Dep. Variable:                     규모   R-squared:                       0.527\n",
            "Model:                            OLS   Adj. R-squared:                  0.525\n",
            "Method:                 Least Squares   F-statistic:                     115.1\n",
            "Date:                Mon, 06 Jun 2022   Prob (F-statistic):          4.92e-164\n",
            "Time:                        15:07:02   Log-Likelihood:                -14847.\n",
            "No. Observations:                2500   AIC:                         2.971e+04\n",
            "Df Residuals:                    2491   BIC:                         2.976e+04\n",
            "Df Model:                           8                                         \n",
            "Covariance Type:                  HC0                                         \n",
            "==============================================================================\n",
            "                 coef    std err          z      P>|z|      [0.025      0.975]\n",
            "------------------------------------------------------------------------------\n",
            "Intercept     34.9885      9.298      3.763      0.000      16.765      53.212\n",
            "실무년수          -0.4284      0.233     -1.838      0.066      -0.885       0.028\n",
            "정규직            0.9026      0.138      6.556      0.000       0.633       1.172\n",
            "대졸인력           0.0736      0.200      0.368      0.713      -0.318       0.466\n",
            "산업재산권          0.3100      0.138      2.247      0.025       0.040       0.580\n",
            "기업성장단계         8.4997      2.233      3.806      0.000       4.123      12.876\n",
            "부채             0.0020      0.000      4.029      0.000       0.001       0.003\n",
            "지분구조          -0.2317      0.075     -3.081      0.002      -0.379      -0.084\n",
            "시장점유율          0.8455      0.253      3.346      0.001       0.350       1.341\n",
            "==============================================================================\n",
            "Omnibus:                      853.675   Durbin-Watson:                   0.903\n",
            "Prob(Omnibus):                  0.000   Jarque-Bera (JB):             5683.208\n",
            "Skew:                           1.450   Prob(JB):                         0.00\n",
            "Kurtosis:                       9.793   Cond. No.                     1.10e+05\n",
            "==============================================================================\n",
            "\n",
            "Warnings:\n",
            "[1] Standard Errors are heteroscedasticity robust (HC0)\n",
            "[2] The condition number is large, 1.1e+05. This might indicate that there are\n",
            "strong multicollinearity or other numerical problems.\n"
          ]
        }
      ]
    },
    {
      "cell_type": "code",
      "execution_count": null,
      "metadata": {
        "colab": {
          "base_uri": "https://localhost:8080/"
        },
        "id": "2hh-dse6O1UX",
        "outputId": "ff9a59a2-34f0-40e7-ea71-6ce0d26c6e0d"
      },
      "outputs": [
        {
          "output_type": "stream",
          "name": "stdout",
          "text": [
            "                            OLS Regression Results                            \n",
            "==============================================================================\n",
            "Dep. Variable:                     규모   R-squared:                       0.527\n",
            "Model:                            OLS   Adj. R-squared:                  0.525\n",
            "Method:                 Least Squares   F-statistic:                     131.9\n",
            "Date:                Mon, 06 Jun 2022   Prob (F-statistic):          1.62e-165\n",
            "Time:                        15:07:05   Log-Likelihood:                -14847.\n",
            "No. Observations:                2500   AIC:                         2.971e+04\n",
            "Df Residuals:                    2492   BIC:                         2.976e+04\n",
            "Df Model:                           7                                         \n",
            "Covariance Type:                  HC0                                         \n",
            "==============================================================================\n",
            "                 coef    std err          z      P>|z|      [0.025      0.975]\n",
            "------------------------------------------------------------------------------\n",
            "Intercept     35.6815      9.056      3.940      0.000      17.933      53.430\n",
            "실무년수          -0.4426      0.236     -1.880      0.060      -0.904       0.019\n",
            "정규직            0.9366      0.095      9.893      0.000       0.751       1.122\n",
            "산업재산권          0.3045      0.137      2.229      0.026       0.037       0.572\n",
            "기업성장단계         8.4239      2.195      3.837      0.000       4.121      12.726\n",
            "부채             0.0020      0.000      4.000      0.000       0.001       0.003\n",
            "지분구조          -0.2334      0.075     -3.097      0.002      -0.381      -0.086\n",
            "시장점유율          0.8264      0.242      3.416      0.001       0.352       1.301\n",
            "==============================================================================\n",
            "Omnibus:                      856.998   Durbin-Watson:                   0.902\n",
            "Prob(Omnibus):                  0.000   Jarque-Bera (JB):             5751.491\n",
            "Skew:                           1.454   Prob(JB):                         0.00\n",
            "Kurtosis:                       9.838   Cond. No.                     1.10e+05\n",
            "==============================================================================\n",
            "\n",
            "Warnings:\n",
            "[1] Standard Errors are heteroscedasticity robust (HC0)\n",
            "[2] The condition number is large, 1.1e+05. This might indicate that there are\n",
            "strong multicollinearity or other numerical problems.\n"
          ]
        }
      ],
      "source": [
        "# 대졸 제외\n",
        "robust_est = smf.ols('규모 ~ 실무년수+정규직+산업재산권+기업성장단계+부채+지분구조+시장점유율', df).fit(cov_type='HC0')\n",
        "print(robust_est.summary())"
      ]
    },
    {
      "cell_type": "code",
      "execution_count": null,
      "metadata": {
        "colab": {
          "base_uri": "https://localhost:8080/"
        },
        "outputId": "8fcb7e98-72df-42e9-d1df-d70f4f6520bc",
        "id": "4RJBLfihHk8t"
      },
      "outputs": [
        {
          "output_type": "stream",
          "name": "stdout",
          "text": [
            "                            OLS Regression Results                            \n",
            "==============================================================================\n",
            "Dep. Variable:                     규모   R-squared:                       0.526\n",
            "Model:                            OLS   Adj. R-squared:                  0.525\n",
            "Method:                 Least Squares   F-statistic:                     152.4\n",
            "Date:                Mon, 06 Jun 2022   Prob (F-statistic):          4.25e-165\n",
            "Time:                        15:07:37   Log-Likelihood:                -14849.\n",
            "No. Observations:                2500   AIC:                         2.971e+04\n",
            "Df Residuals:                    2493   BIC:                         2.975e+04\n",
            "Df Model:                           6                                         \n",
            "Covariance Type:                  HC0                                         \n",
            "==============================================================================\n",
            "                 coef    std err          z      P>|z|      [0.025      0.975]\n",
            "------------------------------------------------------------------------------\n",
            "Intercept     29.9727      8.480      3.535      0.000      13.353      46.592\n",
            "정규직            0.9399      0.095      9.905      0.000       0.754       1.126\n",
            "산업재산권          0.3085      0.136      2.262      0.024       0.041       0.576\n",
            "기업성장단계         8.6713      2.205      3.933      0.000       4.350      12.993\n",
            "부채             0.0020      0.000      3.988      0.000       0.001       0.003\n",
            "지분구조          -0.2305      0.075     -3.057      0.002      -0.378      -0.083\n",
            "시장점유율          0.8055      0.239      3.365      0.001       0.336       1.275\n",
            "==============================================================================\n",
            "Omnibus:                      860.983   Durbin-Watson:                   0.902\n",
            "Prob(Omnibus):                  0.000   Jarque-Bera (JB):             5809.615\n",
            "Skew:                           1.460   Prob(JB):                         0.00\n",
            "Kurtosis:                       9.874   Cond. No.                     1.03e+05\n",
            "==============================================================================\n",
            "\n",
            "Warnings:\n",
            "[1] Standard Errors are heteroscedasticity robust (HC0)\n",
            "[2] The condition number is large, 1.03e+05. This might indicate that there are\n",
            "strong multicollinearity or other numerical problems.\n"
          ]
        }
      ],
      "source": [
        "# 대졸, 실무년수 제외\n",
        "robust_est = smf.ols('규모 ~ 정규직+산업재산권+기업성장단계+부채+지분구조+시장점유율', df).fit(cov_type='HC0')\n",
        "print(robust_est.summary())"
      ]
    },
    {
      "cell_type": "markdown",
      "source": [
        "우리 최종 선형모델\n",
        "\n",
        "**규모 ~ 정규직+산업재산권+기업성장단계+부채+지분구조+시장점유율**\n",
        "\n",
        "- Adj. R-squared:                  0.525"
      ],
      "metadata": {
        "id": "wH0DoQnW9Rru"
      }
    },
    {
      "cell_type": "markdown",
      "source": [
        "## 비선형 모델링"
      ],
      "metadata": {
        "id": "110K9H1fXLci"
      }
    },
    {
      "cell_type": "markdown",
      "source": [
        "### Nonlinear functions of two variables : interaction\n",
        "\n",
        "Interactions Between Independent Variables: two **continuous regressors**\n",
        "\n",
        "(ch8 50페이지 참고)\n",
        "\n",
        "변수간의 correlation이 있을 수 있기 때문에 interaction term 고려\n",
        "\n",
        "* 대졸이 많으면 정규직이 많지 않을까?\n",
        "\n",
        "   -> 대졸*정규직 \n",
        "\n",
        "* 기업성장단계가 크면 시장점유율이 크지 않을까?\n",
        "\n",
        "   ->기업성장단계*시장점유율 "
      ],
      "metadata": {
        "id": "zvW16sztKSu2"
      }
    },
    {
      "cell_type": "code",
      "source": [
        "robust_est = smf.ols('규모 ~ 실무년수+정규직+대졸인력+산업재산권+기업성장단계+부채+지분구조+시장점유율+정규직*대졸인력+기업성장단계*시장점유율', df).fit(cov_type='HC0')\n",
        "print(robust_est.summary())"
      ],
      "metadata": {
        "colab": {
          "base_uri": "https://localhost:8080/"
        },
        "outputId": "3a1330e4-ce5f-46be-fd95-d9954aa19e78",
        "id": "xQxJfqFRTnwo"
      },
      "execution_count": null,
      "outputs": [
        {
          "output_type": "stream",
          "name": "stdout",
          "text": [
            "                            OLS Regression Results                            \n",
            "==============================================================================\n",
            "Dep. Variable:                     규모   R-squared:                       0.545\n",
            "Model:                            OLS   Adj. R-squared:                  0.543\n",
            "Method:                 Least Squares   F-statistic:                     143.7\n",
            "Date:                Mon, 06 Jun 2022   Prob (F-statistic):          7.62e-238\n",
            "Time:                        15:07:41   Log-Likelihood:                -14798.\n",
            "No. Observations:                2500   AIC:                         2.962e+04\n",
            "Df Residuals:                    2489   BIC:                         2.968e+04\n",
            "Df Model:                          10                                         \n",
            "Covariance Type:                  HC0                                         \n",
            "================================================================================\n",
            "                   coef    std err          z      P>|z|      [0.025      0.975]\n",
            "--------------------------------------------------------------------------------\n",
            "Intercept       23.8481      9.207      2.590      0.010       5.803      41.893\n",
            "실무년수            -0.1946      0.231     -0.841      0.400      -0.648       0.259\n",
            "정규직              1.0736      0.134      8.011      0.000       0.811       1.336\n",
            "대졸인력             0.8491      0.249      3.413      0.001       0.361       1.337\n",
            "산업재산권            0.2257      0.130      1.741      0.082      -0.028       0.480\n",
            "기업성장단계           5.7796      2.222      2.601      0.009       1.425      10.135\n",
            "부채               0.0018      0.000      3.974      0.000       0.001       0.003\n",
            "지분구조            -0.1418      0.074     -1.926      0.054      -0.286       0.002\n",
            "시장점유율            0.3908      0.603      0.648      0.517      -0.792       1.573\n",
            "정규직:대졸인력        -0.0036      0.001     -2.977      0.003      -0.006      -0.001\n",
            "기업성장단계:시장점유율     0.1415      0.197      0.719      0.472      -0.244       0.527\n",
            "==============================================================================\n",
            "Omnibus:                      876.738   Durbin-Watson:                   0.852\n",
            "Prob(Omnibus):                  0.000   Jarque-Bera (JB):             4973.053\n",
            "Skew:                           1.551   Prob(JB):                         0.00\n",
            "Kurtosis:                       9.174   Cond. No.                     1.22e+05\n",
            "==============================================================================\n",
            "\n",
            "Warnings:\n",
            "[1] Standard Errors are heteroscedasticity robust (HC0)\n",
            "[2] The condition number is large, 1.22e+05. This might indicate that there are\n",
            "strong multicollinearity or other numerical problems.\n"
          ]
        }
      ]
    },
    {
      "cell_type": "markdown",
      "source": [
        "시장점유율과 기업성장단계는 interaction 없었다.\n",
        "\n",
        "대졸과 정규직은 interaction 있었다."
      ],
      "metadata": {
        "id": "7CH3fqXvUXWL"
      }
    },
    {
      "cell_type": "code",
      "source": [
        "#시장점유율*기업성장단계 삭제\n",
        "robust_est = smf.ols('규모 ~ 실무년수+정규직+대졸인력+산업재산권+기업성장단계+부채+지분구조+시장점유율+정규직*대졸인력', df).fit(cov_type='HC0')\n",
        "print(robust_est.summary())"
      ],
      "metadata": {
        "colab": {
          "base_uri": "https://localhost:8080/"
        },
        "outputId": "ae793a7b-5a93-4d62-968c-f745c7e35647",
        "id": "I1Rj4432Uj2N"
      },
      "execution_count": null,
      "outputs": [
        {
          "output_type": "stream",
          "name": "stdout",
          "text": [
            "                            OLS Regression Results                            \n",
            "==============================================================================\n",
            "Dep. Variable:                     규모   R-squared:                       0.545\n",
            "Model:                            OLS   Adj. R-squared:                  0.543\n",
            "Method:                 Least Squares   F-statistic:                     159.0\n",
            "Date:                Mon, 06 Jun 2022   Prob (F-statistic):          5.85e-238\n",
            "Time:                        15:07:44   Log-Likelihood:                -14798.\n",
            "No. Observations:                2500   AIC:                         2.962e+04\n",
            "Df Residuals:                    2490   BIC:                         2.967e+04\n",
            "Df Model:                           9                                         \n",
            "Covariance Type:                  HC0                                         \n",
            "==============================================================================\n",
            "                 coef    std err          z      P>|z|      [0.025      0.975]\n",
            "------------------------------------------------------------------------------\n",
            "Intercept     21.6419      9.063      2.388      0.017       3.879      39.405\n",
            "실무년수          -0.1956      0.231     -0.845      0.398      -0.649       0.258\n",
            "정규직            1.0750      0.134      8.046      0.000       0.813       1.337\n",
            "대졸인력           0.8456      0.248      3.404      0.001       0.359       1.332\n",
            "산업재산권          0.2282      0.129      1.764      0.078      -0.025       0.482\n",
            "기업성장단계         6.4284      2.149      2.991      0.003       2.216      10.641\n",
            "부채             0.0018      0.000      3.982      0.000       0.001       0.003\n",
            "지분구조          -0.1410      0.074     -1.914      0.056      -0.285       0.003\n",
            "시장점유율          0.8564      0.239      3.588      0.000       0.389       1.324\n",
            "정규직:대졸인력      -0.0035      0.001     -2.980      0.003      -0.006      -0.001\n",
            "==============================================================================\n",
            "Omnibus:                      876.695   Durbin-Watson:                   0.853\n",
            "Prob(Omnibus):                  0.000   Jarque-Bera (JB):             4957.825\n",
            "Skew:                           1.552   Prob(JB):                         0.00\n",
            "Kurtosis:                       9.161   Cond. No.                     1.15e+05\n",
            "==============================================================================\n",
            "\n",
            "Warnings:\n",
            "[1] Standard Errors are heteroscedasticity robust (HC0)\n",
            "[2] The condition number is large, 1.15e+05. This might indicate that there are\n",
            "strong multicollinearity or other numerical problems.\n"
          ]
        }
      ]
    },
    {
      "cell_type": "code",
      "source": [
        "# 실무년수 삭제\n",
        "robust_est = smf.ols('규모 ~ 정규직+대졸인력+산업재산권+기업성장단계+부채+지분구조+시장점유율+정규직*대졸인력', df).fit(cov_type='HC0')\n",
        "print(robust_est.summary())"
      ],
      "metadata": {
        "colab": {
          "base_uri": "https://localhost:8080/"
        },
        "outputId": "37e16878-2d92-40fc-91e2-257027e39979",
        "id": "rFAODk6aUw0B"
      },
      "execution_count": null,
      "outputs": [
        {
          "output_type": "stream",
          "name": "stdout",
          "text": [
            "                            OLS Regression Results                            \n",
            "==============================================================================\n",
            "Dep. Variable:                     규모   R-squared:                       0.545\n",
            "Model:                            OLS   Adj. R-squared:                  0.543\n",
            "Method:                 Least Squares   F-statistic:                     178.9\n",
            "Date:                Mon, 06 Jun 2022   Prob (F-statistic):          4.85e-239\n",
            "Time:                        15:07:45   Log-Likelihood:                -14799.\n",
            "No. Observations:                2500   AIC:                         2.962e+04\n",
            "Df Residuals:                    2491   BIC:                         2.967e+04\n",
            "Df Model:                           8                                         \n",
            "Covariance Type:                  HC0                                         \n",
            "==============================================================================\n",
            "                 coef    std err          z      P>|z|      [0.025      0.975]\n",
            "------------------------------------------------------------------------------\n",
            "Intercept     19.0100      8.435      2.254      0.024       2.477      35.542\n",
            "정규직            1.0748      0.134      8.049      0.000       0.813       1.337\n",
            "대졸인력           0.8566      0.248      3.455      0.001       0.371       1.342\n",
            "산업재산권          0.2298      0.129      1.780      0.075      -0.023       0.483\n",
            "기업성장단계         6.5283      2.146      3.042      0.002       2.322      10.735\n",
            "부채             0.0018      0.000      3.978      0.000       0.001       0.003\n",
            "지분구조          -0.1390      0.074     -1.888      0.059      -0.283       0.005\n",
            "시장점유율          0.8489      0.237      3.579      0.000       0.384       1.314\n",
            "정규직:대졸인력      -0.0036      0.001     -3.002      0.003      -0.006      -0.001\n",
            "==============================================================================\n",
            "Omnibus:                      878.181   Durbin-Watson:                   0.853\n",
            "Prob(Omnibus):                  0.000   Jarque-Bera (JB):             4968.592\n",
            "Skew:                           1.555   Prob(JB):                         0.00\n",
            "Kurtosis:                       9.167   Cond. No.                     1.07e+05\n",
            "==============================================================================\n",
            "\n",
            "Warnings:\n",
            "[1] Standard Errors are heteroscedasticity robust (HC0)\n",
            "[2] The condition number is large, 1.07e+05. This might indicate that there are\n",
            "strong multicollinearity or other numerical problems.\n"
          ]
        }
      ]
    },
    {
      "cell_type": "code",
      "source": [
        "# 산업재산권 삭제\n",
        "robust_est = smf.ols('규모 ~ 정규직+대졸인력+기업성장단계+부채+지분구조+시장점유율+정규직*대졸인력', df).fit(cov_type='HC0')\n",
        "print(robust_est.summary())"
      ],
      "metadata": {
        "colab": {
          "base_uri": "https://localhost:8080/"
        },
        "outputId": "84fc8595-4205-4cc9-f279-627d79dd6dba",
        "id": "yhO3foGNVIiu"
      },
      "execution_count": null,
      "outputs": [
        {
          "output_type": "stream",
          "name": "stdout",
          "text": [
            "                            OLS Regression Results                            \n",
            "==============================================================================\n",
            "Dep. Variable:                     규모   R-squared:                       0.544\n",
            "Model:                            OLS   Adj. R-squared:                  0.542\n",
            "Method:                 Least Squares   F-statistic:                     199.2\n",
            "Date:                Mon, 06 Jun 2022   Prob (F-statistic):          4.66e-235\n",
            "Time:                        15:08:53   Log-Likelihood:                -14802.\n",
            "No. Observations:                2500   AIC:                         2.962e+04\n",
            "Df Residuals:                    2492   BIC:                         2.967e+04\n",
            "Df Model:                           7                                         \n",
            "Covariance Type:                  HC0                                         \n",
            "==============================================================================\n",
            "                 coef    std err          z      P>|z|      [0.025      0.975]\n",
            "------------------------------------------------------------------------------\n",
            "Intercept     19.1178      8.460      2.260      0.024       2.537      35.698\n",
            "정규직            1.1087      0.132      8.402      0.000       0.850       1.367\n",
            "대졸인력           0.8530      0.253      3.377      0.001       0.358       1.348\n",
            "기업성장단계         7.0093      2.162      3.242      0.001       2.772      11.247\n",
            "부채             0.0019      0.000      4.073      0.000       0.001       0.003\n",
            "지분구조          -0.1520      0.073     -2.080      0.038      -0.295      -0.009\n",
            "시장점유율          0.8920      0.238      3.743      0.000       0.425       1.359\n",
            "정규직:대졸인력      -0.0037      0.001     -3.034      0.002      -0.006      -0.001\n",
            "==============================================================================\n",
            "Omnibus:                      874.151   Durbin-Watson:                   0.848\n",
            "Prob(Omnibus):                  0.000   Jarque-Bera (JB):             4882.049\n",
            "Skew:                           1.551   Prob(JB):                         0.00\n",
            "Kurtosis:                       9.103   Cond. No.                     1.07e+05\n",
            "==============================================================================\n",
            "\n",
            "Warnings:\n",
            "[1] Standard Errors are heteroscedasticity robust (HC0)\n",
            "[2] The condition number is large, 1.07e+05. This might indicate that there are\n",
            "strong multicollinearity or other numerical problems.\n"
          ]
        }
      ]
    },
    {
      "cell_type": "markdown",
      "source": [
        "우리의 최종 비선형 모델은 \n",
        "\n",
        "규모 ~ 정규직+대졸인력+기업성장단계+부채+지분구조+시장점유율+정규직*대졸인력 \n",
        "- Adj. R-squared:                  0.542"
      ],
      "metadata": {
        "id": "lqcOn459VlR3"
      }
    }
  ],
  "metadata": {
    "colab": {
      "collapsed_sections": [],
      "name": "계량경제_파이널_프로젝트(최종).ipynb",
      "provenance": [],
      "toc_visible": true
    },
    "kernelspec": {
      "display_name": "Python 3 (ipykernel)",
      "language": "python",
      "name": "python3"
    },
    "language_info": {
      "codemirror_mode": {
        "name": "ipython",
        "version": 3
      },
      "file_extension": ".py",
      "mimetype": "text/x-python",
      "name": "python",
      "nbconvert_exporter": "python",
      "pygments_lexer": "ipython3",
      "version": "3.9.7"
    }
  },
  "nbformat": 4,
  "nbformat_minor": 0
}