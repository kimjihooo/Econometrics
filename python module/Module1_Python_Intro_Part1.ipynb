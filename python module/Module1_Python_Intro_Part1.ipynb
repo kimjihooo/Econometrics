{
 "cells": [
  {
   "cell_type": "markdown",
   "id": "1f03145b",
   "metadata": {},
   "source": [
    "# Introduction to Python\n",
    "# Module 1 - Intro Part 1: Short cut & Markdown"
   ]
  },
  {
   "cell_type": "markdown",
   "id": "06f7105d",
   "metadata": {},
   "source": [
    "Instructor: Suyong Song <br>\n",
    "References: \n",
    "- Python Programming by en.wikibooks.org (https://en.wikibooks.org/wiki/Python_Programming)\n",
    "- Data Wrangling with Python by Katharine Jarmul, Jacqueline Kazil (http://shop.oreilly.com/product/0636920032861.do)\n",
    "- The Python Tutorial by Python Software Foundation (https://docs.python.org/3/tutorial/)\n",
    "- The Python Standard Library by Python Software Foundation (https://docs.python.org/3/library/)"
   ]
  },
  {
   "cell_type": "markdown",
   "id": "8c0abed0",
   "metadata": {},
   "source": [
    "A few shortcut:\n",
    "- Creat new Notebook: New -> Python3\n",
    "- Run a cell: control + return (or shift + return)\n",
    "- Open a cell: press B\n",
    "- Remove a cell: press X\n",
    "- Cell number shows how many times the cell has been run\n",
    "- Run all cell: Cell -> Run all (or Kernel -> Restart & Run All)\n",
    "- Close a Notebook: File -> Close and Halt\n",
    "- Creat a new Folder in the main jupyter: New -> Folder"
   ]
  },
  {
   "cell_type": "markdown",
   "id": "a2b70b11",
   "metadata": {},
   "source": [
    "# ▪ Run a Cell : control + return (or shift + return)"
   ]
  },
  {
   "cell_type": "code",
   "execution_count": 1,
   "id": "e6672fda",
   "metadata": {},
   "outputs": [
    {
     "name": "stdout",
     "output_type": "stream",
     "text": [
      "Hello, world!\n"
     ]
    }
   ],
   "source": [
    "print(\"Hello, world!\")"
   ]
  },
  {
   "cell_type": "code",
   "execution_count": 2,
   "id": "8a19bc8d",
   "metadata": {},
   "outputs": [
    {
     "name": "stdout",
     "output_type": "stream",
     "text": [
      "Hello, world!\n"
     ]
    }
   ],
   "source": [
    "print(\"Hello, world!\")"
   ]
  },
  {
   "cell_type": "markdown",
   "id": "80ef63e3",
   "metadata": {},
   "source": [
    "## ▪ How to Find Path Information in Python"
   ]
  },
  {
   "cell_type": "code",
   "execution_count": 3,
   "id": "42416aff",
   "metadata": {},
   "outputs": [
    {
     "name": "stdout",
     "output_type": "stream",
     "text": [
      "C:\\Users\\ellyj\\Desktop\\3-1\\계량경제학\n",
      "C:\\ProgramData\\Anaconda3\\python38.zip\n",
      "C:\\ProgramData\\Anaconda3\\DLLs\n",
      "C:\\ProgramData\\Anaconda3\\lib\n",
      "C:\\ProgramData\\Anaconda3\n",
      "\n",
      "C:\\ProgramData\\Anaconda3\\lib\\site-packages\n",
      "C:\\ProgramData\\Anaconda3\\lib\\site-packages\\locket-0.2.1-py3.8.egg\n",
      "C:\\ProgramData\\Anaconda3\\lib\\site-packages\\win32\n",
      "C:\\ProgramData\\Anaconda3\\lib\\site-packages\\win32\\lib\n",
      "C:\\ProgramData\\Anaconda3\\lib\\site-packages\\Pythonwin\n",
      "C:\\ProgramData\\Anaconda3\\lib\\site-packages\\IPython\\extensions\n",
      "C:\\Users\\ellyj\\.ipython\n"
     ]
    }
   ],
   "source": [
    "import sys\n",
    "for p in sys.path: print(p)"
   ]
  },
  {
   "cell_type": "code",
   "execution_count": 4,
   "id": "52e42098",
   "metadata": {},
   "outputs": [
    {
     "data": {
      "text/plain": [
       "'C:\\\\Users\\\\ellyj\\\\Desktop\\\\3-1\\\\계량경제학'"
      ]
     },
     "execution_count": 4,
     "metadata": {},
     "output_type": "execute_result"
    }
   ],
   "source": [
    "# or use the following function\n",
    "import os\n",
    "os.getcwd()"
   ]
  },
  {
   "cell_type": "markdown",
   "id": "06cd1588",
   "metadata": {},
   "source": [
    "The <b>os.getcwd</b> function returns a string representing the `current working directory`."
   ]
  },
  {
   "cell_type": "markdown",
   "id": "339df7c5",
   "metadata": {},
   "source": [
    "# ▪  Headline"
   ]
  },
  {
   "cell_type": "raw",
   "id": "c16e3a32",
   "metadata": {},
   "source": [
    "# Hello (#1)\n",
    "## Hello (#2)\n",
    "### Hello (#3)"
   ]
  },
  {
   "cell_type": "markdown",
   "id": "01449208",
   "metadata": {},
   "source": [
    "# Hello (#1)\n",
    "## Hello (#2)\n",
    "### Hello (#3)"
   ]
  },
  {
   "cell_type": "markdown",
   "id": "e3be433f",
   "metadata": {},
   "source": [
    "# Color"
   ]
  },
  {
   "cell_type": "raw",
   "id": "79598ef2",
   "metadata": {},
   "source": [
    "<h1 style=\"color:blue\">Hello (#1)</h1>\n",
    "<h3 style=\"color:red\">Hello (#2)</h3>\n",
    "<h3 style=\"color:green\">Hello (#3)</h3>"
   ]
  },
  {
   "cell_type": "markdown",
   "id": "9f7b93f1",
   "metadata": {},
   "source": [
    "<h1 style=\"color:blue\">Hello (#1)</h1>\n",
    "<h3 style=\"color:red\">Hello (#2)</h3>\n",
    "<h3 style=\"color:green\">Hello (#3)</h3>"
   ]
  },
  {
   "cell_type": "markdown",
   "id": "40020942",
   "metadata": {},
   "source": [
    "# ▪  Underline"
   ]
  },
  {
   "cell_type": "raw",
   "id": "b782e7cc",
   "metadata": {},
   "source": [
    "_"
   ]
  },
  {
   "cell_type": "markdown",
   "id": "a1516247",
   "metadata": {},
   "source": [
    "_"
   ]
  },
  {
   "cell_type": "markdown",
   "id": "7df14c87",
   "metadata": {},
   "source": [
    "# ▪  Arrow sign decoration (You can repeat >> ... >)"
   ]
  },
  {
   "cell_type": "raw",
   "id": "9682d75d",
   "metadata": {},
   "source": [
    ">>"
   ]
  },
  {
   "cell_type": "markdown",
   "id": "555c132b",
   "metadata": {},
   "source": [
    ">>"
   ]
  },
  {
   "cell_type": "raw",
   "id": "55b344c9",
   "metadata": {},
   "source": [
    ">>>"
   ]
  },
  {
   "cell_type": "markdown",
   "id": "f0c8d7e0",
   "metadata": {},
   "source": [
    ">>>"
   ]
  },
  {
   "cell_type": "markdown",
   "id": "0775209c",
   "metadata": {},
   "source": [
    "# ▪  Emphasis"
   ]
  },
  {
   "cell_type": "raw",
   "id": "3fd158cc",
   "metadata": {},
   "source": [
    "Hello *world*"
   ]
  },
  {
   "cell_type": "markdown",
   "id": "2046addf",
   "metadata": {},
   "source": [
    "Hello *world*"
   ]
  },
  {
   "cell_type": "raw",
   "id": "ee30566d",
   "metadata": {},
   "source": [
    "Hello _world_"
   ]
  },
  {
   "cell_type": "markdown",
   "id": "7f96d97b",
   "metadata": {},
   "source": [
    "Hello _world_"
   ]
  },
  {
   "cell_type": "raw",
   "id": "42ccaa24",
   "metadata": {},
   "source": [
    "Hello **world**"
   ]
  },
  {
   "cell_type": "markdown",
   "id": "ebca561e",
   "metadata": {},
   "source": [
    "Hello **world**"
   ]
  },
  {
   "cell_type": "raw",
   "id": "6005c3b0",
   "metadata": {},
   "source": [
    "Hello __world__"
   ]
  },
  {
   "cell_type": "markdown",
   "id": "1d6aa744",
   "metadata": {},
   "source": [
    "Hello __world__"
   ]
  },
  {
   "cell_type": "raw",
   "id": "4b330606",
   "metadata": {},
   "source": [
    "Hello ~~world~~"
   ]
  },
  {
   "cell_type": "markdown",
   "id": "0d13d0b2",
   "metadata": {},
   "source": [
    "Hello ~~world~~"
   ]
  },
  {
   "cell_type": "markdown",
   "id": "30c50a63",
   "metadata": {},
   "source": [
    "# ▪  List up"
   ]
  },
  {
   "cell_type": "raw",
   "id": "b49ada7b",
   "metadata": {},
   "source": [
    "- Hello\n",
    "- World\n",
    "    - Python\n",
    "    - R\n",
    "        - Intro\n",
    "        - Functions"
   ]
  },
  {
   "cell_type": "markdown",
   "id": "7337464b",
   "metadata": {},
   "source": [
    "- Hello\n",
    "- World\n",
    "    - Python\n",
    "    - R\n",
    "        - Intro\n",
    "        - Functions"
   ]
  },
  {
   "cell_type": "raw",
   "id": "18d45975",
   "metadata": {},
   "source": [
    "* Hello\n",
    "* World"
   ]
  },
  {
   "cell_type": "markdown",
   "id": "968e6850",
   "metadata": {},
   "source": [
    "* Hello\n",
    "* World"
   ]
  },
  {
   "cell_type": "raw",
   "id": "7a30296b",
   "metadata": {},
   "source": [
    "+ Hello\n",
    "+ World"
   ]
  },
  {
   "cell_type": "markdown",
   "id": "e7f6abe8",
   "metadata": {},
   "source": [
    "+ Hello\n",
    "+ World"
   ]
  },
  {
   "cell_type": "raw",
   "id": "85a75a59",
   "metadata": {},
   "source": [
    "1. Hello\n",
    "2. World"
   ]
  },
  {
   "cell_type": "markdown",
   "id": "a97937d0",
   "metadata": {},
   "source": [
    "1. Hello\n",
    "2. World"
   ]
  },
  {
   "cell_type": "markdown",
   "id": "454f07a6",
   "metadata": {},
   "source": [
    "# ▪  Link"
   ]
  },
  {
   "cell_type": "raw",
   "id": "ec188777",
   "metadata": {},
   "source": [
    "http://econ.korea.ac.kr/econ"
   ]
  },
  {
   "cell_type": "markdown",
   "id": "fd7f6d3c",
   "metadata": {},
   "source": [
    "http://econ.korea.ac.kr/econ"
   ]
  },
  {
   "cell_type": "raw",
   "id": "574e61f7",
   "metadata": {},
   "source": [
    "[Econ Dept at Korea U](http://econ.korea.ac.kr/econ/)"
   ]
  },
  {
   "cell_type": "markdown",
   "id": "7850194a",
   "metadata": {},
   "source": [
    "[Econ Dept at Korea U](http://econ.korea.ac.kr/econ/)"
   ]
  },
  {
   "cell_type": "raw",
   "id": "76123376",
   "metadata": {},
   "source": [
    "[Econ Dept at Korea U] (http://econ.korea.ac.kr/econ) <- Error case: Don't put the space between [] and ()."
   ]
  },
  {
   "cell_type": "markdown",
   "id": "9be43f9a",
   "metadata": {},
   "source": [
    "[Econ Dept at Korea U] (http://econ.korea.ac.kr/econ)"
   ]
  },
  {
   "cell_type": "raw",
   "id": "dd5d499b",
   "metadata": {},
   "source": [
    "[Econ Dept at Korea U](http://econ.korea.ac.kr/econ \"Hello\")"
   ]
  },
  {
   "cell_type": "markdown",
   "id": "14d4c00b",
   "metadata": {},
   "source": [
    "[Econ Dept at Korea U](http://econ.korea.ac.kr/econ \"Hello\")"
   ]
  }
 ],
 "metadata": {
  "kernelspec": {
   "display_name": "Python 3",
   "language": "python",
   "name": "python3"
  },
  "language_info": {
   "codemirror_mode": {
    "name": "ipython",
    "version": 3
   },
   "file_extension": ".py",
   "mimetype": "text/x-python",
   "name": "python",
   "nbconvert_exporter": "python",
   "pygments_lexer": "ipython3",
   "version": "3.8.8"
  }
 },
 "nbformat": 4,
 "nbformat_minor": 5
}
