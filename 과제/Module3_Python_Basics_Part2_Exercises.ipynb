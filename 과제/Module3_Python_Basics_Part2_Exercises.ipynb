{
 "cells": [
  {
   "cell_type": "markdown",
   "metadata": {},
   "source": [
    "# Introduction to Python\n",
    "# Module 3 - Python Basics Part 2"
   ]
  },
  {
   "cell_type": "markdown",
   "metadata": {},
   "source": [
    "Instructor: Suyong Song "
   ]
  },
  {
   "cell_type": "markdown",
   "metadata": {},
   "source": [
    "## Exercises for Branches"
   ]
  },
  {
   "cell_type": "code",
   "execution_count": 1,
   "metadata": {},
   "outputs": [],
   "source": [
    "x, y = 3, 5"
   ]
  },
  {
   "cell_type": "markdown",
   "metadata": {},
   "source": [
    "1\\. Write an <b>if</b> statement that prints \"*Integer*\" if `x` is an integer, \"*Float*\" if `x` is a floating point number, \"*Complex*\" if `x` is a complex number, and \"*Not a number*\" otherwise. Use the <b>type</b> function to check the type of a variable. "
   ]
  },
  {
   "cell_type": "code",
   "execution_count": 2,
   "metadata": {},
   "outputs": [
    {
     "name": "stdout",
     "output_type": "stream",
     "text": [
      "Integer\n"
     ]
    }
   ],
   "source": [
    "# Your answer here\n",
    "if type(x) == int:\n",
    "    print(\"Integer\")\n",
    "elif type(x) == float:\n",
    "    print(\"Float\")\n",
    "elif type(x) == complex:\n",
    "    print(\"Complex\")\n",
    "else:\n",
    "    print(\"Not a number\")"
   ]
  },
  {
   "cell_type": "markdown",
   "metadata": {},
   "source": [
    "2\\. Write an <b>if</b> statement that prints \"*Even*\" if `x` is an even number and \"*Odd*\" if `x` is an odd number. In order to check if a number is either even or odd, divide it by 2 and if the remainder is 0, you can say it is even, otherwise, it is odd. Use the % operator to get the remainder of a division. "
   ]
  },
  {
   "cell_type": "code",
   "execution_count": 3,
   "metadata": {},
   "outputs": [
    {
     "name": "stdout",
     "output_type": "stream",
     "text": [
      "Odd\n"
     ]
    }
   ],
   "source": [
    "# Your answer here\n",
    "if x % 2 == 0:\n",
    "    print(\"Even\")\n",
    "else:\n",
    "    print(\"Odd\")"
   ]
  },
  {
   "cell_type": "markdown",
   "metadata": {},
   "source": [
    "3\\. Write an <b>if</b> statement that prints \"*x is greater than y.*\" if `x` is greater than `y`, \"*x is less than y.*\" if `x` is less than `y`, and \"*x equals y.*\" otherwise. "
   ]
  },
  {
   "cell_type": "code",
   "execution_count": 4,
   "metadata": {},
   "outputs": [
    {
     "name": "stdout",
     "output_type": "stream",
     "text": [
      "x is less than y.\n"
     ]
    }
   ],
   "source": [
    "# Your answer here\n",
    "if x > y:\n",
    "    print(\"x is greater than y.\")\n",
    "if x < y:\n",
    "    print(\"x is less than y.\")\n",
    "else:\n",
    "    print(\"x equals y.\")"
   ]
  },
  {
   "cell_type": "markdown",
   "metadata": {},
   "source": [
    "## Exercises for For Loops"
   ]
  },
  {
   "cell_type": "markdown",
   "metadata": {},
   "source": [
    "1\\. Write a <b>for</b> loop that prints all integers from 1 to 100, separated by a tab. Use the <b>range</b> function to generate numbers."
   ]
  },
  {
   "cell_type": "code",
   "execution_count": 5,
   "metadata": {},
   "outputs": [
    {
     "name": "stdout",
     "output_type": "stream",
     "text": [
      "1\t2\t3\t4\t5\t6\t7\t8\t9\t10\t11\t12\t13\t14\t15\t16\t17\t18\t19\t20\t21\t22\t23\t24\t25\t26\t27\t28\t29\t30\t31\t32\t33\t34\t35\t36\t37\t38\t39\t40\t41\t42\t43\t44\t45\t46\t47\t48\t49\t50\t51\t52\t53\t54\t55\t56\t57\t58\t59\t60\t61\t62\t63\t64\t65\t66\t67\t68\t69\t70\t71\t72\t73\t74\t75\t76\t77\t78\t79\t80\t81\t82\t83\t84\t85\t86\t87\t88\t89\t90\t91\t92\t93\t94\t95\t96\t97\t98\t99\t100\t"
     ]
    }
   ],
   "source": [
    "# Your answer here\n",
    "for num in range(1, 101):\n",
    "    print(num, end=\"\\t\")"
   ]
  },
  {
   "cell_type": "markdown",
   "metadata": {},
   "source": [
    "2\\. Write a <b>for</b> loop that prints all characters in the string `s` below, separated by a tab."
   ]
  },
  {
   "cell_type": "code",
   "execution_count": 1,
   "metadata": {},
   "outputs": [],
   "source": [
    "s = \"abcdefghijklmnopqrstuvwxyz\""
   ]
  },
  {
   "cell_type": "code",
   "execution_count": 2,
   "metadata": {},
   "outputs": [
    {
     "name": "stdout",
     "output_type": "stream",
     "text": [
      "a\tb\tc\td\te\tf\tg\th\ti\tj\tk\tl\tm\tn\to\tp\tq\tr\ts\tt\tu\tv\tw\tx\ty\tz\t"
     ]
    }
   ],
   "source": [
    "# Your answer here\n",
    "for c in s:\n",
    "    print(c, end='\\t')"
   ]
  },
  {
   "cell_type": "markdown",
   "metadata": {},
   "source": [
    "3\\. Write a <b>for</b> loop that prints the same as above, but this time using the index of `s`."
   ]
  },
  {
   "cell_type": "code",
   "execution_count": 3,
   "metadata": {},
   "outputs": [
    {
     "name": "stdout",
     "output_type": "stream",
     "text": [
      "a\tb\tc\td\te\tf\tg\th\ti\tj\tk\tl\tm\tn\to\tp\tq\tr\ts\tt\tu\tv\tw\tx\ty\tz\t"
     ]
    }
   ],
   "source": [
    "# Your answer here\n",
    "for i in range(len(s)):\n",
    "    c = s[i]\n",
    "    print(c, end=\"\\t\")"
   ]
  },
  {
   "cell_type": "markdown",
   "metadata": {},
   "source": [
    "4\\. Write a <b>for</b> loop that prints the same as above, except that the letters at odd index positions are printed in upper case, while the other letters are printed as they are."
   ]
  },
  {
   "cell_type": "code",
   "execution_count": 5,
   "metadata": {},
   "outputs": [
    {
     "name": "stdout",
     "output_type": "stream",
     "text": [
      "a\tB\tc\tD\te\tF\tg\tH\ti\tJ\tk\tL\tm\tN\to\tP\tq\tR\ts\tT\tu\tV\tw\tX\ty\tZ\t"
     ]
    }
   ],
   "source": [
    "# Your answer here\n",
    "for c in range(len(s)):\n",
    "    if c % 2 == 1:\n",
    "        print(s[c].upper(), end = '\\t')\n",
    "    else:\n",
    "        print(s[c], end = '\\t')"
   ]
  },
  {
   "cell_type": "markdown",
   "metadata": {},
   "source": [
    "5\\. Write a <b>for</b> loop that prints \"NAME is SEX and aged AGE.\" for each tuple in `employees`, separated by a new line, where NAME is the first value in each tuple, SEX the second, and AGE the third. For example, the first line in the output should look as follows:"
   ]
  },
  {
   "cell_type": "raw",
   "metadata": {},
   "source": [
    "Alice is female and aged 30."
   ]
  },
  {
   "cell_type": "code",
   "execution_count": 6,
   "metadata": {},
   "outputs": [],
   "source": [
    "employees = [(\"Alice\", 30, \"female\"), (\"Bob\", 25, \"male\"), (\"Tom\", 34, \"male\")]"
   ]
  },
  {
   "cell_type": "code",
   "execution_count": 7,
   "metadata": {},
   "outputs": [
    {
     "name": "stdout",
     "output_type": "stream",
     "text": [
      "Alice is female and aged 30.\n",
      "Bob is male and aged 25.\n",
      "Tom is male and aged 34.\n"
     ]
    }
   ],
   "source": [
    "# Your answer here\n",
    "for i in employees:\n",
    "    print(\"{} is {} and aged {}.\".format(i[0], i[2], i[1]))"
   ]
  },
  {
   "cell_type": "markdown",
   "metadata": {},
   "source": [
    "6\\. Write a <b>for</b> loop that prints \"ABBREVIATION is the abbreviation for FULLNAME.\" for each key-value pair in the dictionary `states`, separated by a new line, where ABBREVIATION is the key in `states` and FULLNAME the value. For example, the first line in the output should look as follows:"
   ]
  },
  {
   "cell_type": "raw",
   "metadata": {},
   "source": [
    "IA is the abbreviation for Iowa."
   ]
  },
  {
   "cell_type": "code",
   "execution_count": 8,
   "metadata": {},
   "outputs": [],
   "source": [
    "states = {\"IA\": \"Iowa\", \"IL\": \"Illinois\", \"MN\": \"Minnesota\", \"NE\": \"Nebraska\", \"WI\": \"Wisconsin\"}"
   ]
  },
  {
   "cell_type": "code",
   "execution_count": 9,
   "metadata": {},
   "outputs": [
    {
     "name": "stdout",
     "output_type": "stream",
     "text": [
      "IA is the abbrevation for Iowa.\n",
      "IL is the abbrevation for Illinois.\n",
      "MN is the abbrevation for Minnesota.\n",
      "NE is the abbrevation for Nebraska.\n",
      "WI is the abbrevation for Wisconsin.\n"
     ]
    }
   ],
   "source": [
    "# Your answer here\n",
    "for i in states:\n",
    "    print(\"{} is the abbrevation for {}.\".format(i, states[i]))"
   ]
  },
  {
   "cell_type": "markdown",
   "metadata": {},
   "source": [
    "7\\. Write a <b>for</b> loop that prints all names in the list `names` in uppercase, separated by a new line."
   ]
  },
  {
   "cell_type": "code",
   "execution_count": 10,
   "metadata": {},
   "outputs": [],
   "source": [
    "names = [\"Alice\", \"Bob\", \"Mary\", \"Sam\", \"Sarah\", \"Tom\"]"
   ]
  },
  {
   "cell_type": "code",
   "execution_count": 11,
   "metadata": {
    "scrolled": false
   },
   "outputs": [
    {
     "name": "stdout",
     "output_type": "stream",
     "text": [
      "ALICE\n",
      "BOB\n",
      "MARY\n",
      "SAM\n",
      "SARAH\n",
      "TOM\n"
     ]
    }
   ],
   "source": [
    "# Your answer here\n",
    "for i in names:\n",
    "    print(i.upper(), end = \"\\n\")"
   ]
  },
  {
   "cell_type": "markdown",
   "metadata": {},
   "source": [
    "8\\. Write a <b>for</b> loop that prints the first two characters of each name in `names` in lowercase, separated by a new line."
   ]
  },
  {
   "cell_type": "code",
   "execution_count": 12,
   "metadata": {
    "scrolled": true
   },
   "outputs": [
    {
     "name": "stdout",
     "output_type": "stream",
     "text": [
      "al\n",
      "bo\n",
      "ma\n",
      "sa\n",
      "sa\n",
      "to\n"
     ]
    }
   ],
   "source": [
    "# Your answer here\n",
    "for i in names:\n",
    "    print(i[:2].lower(), end = \"\\n\")"
   ]
  },
  {
   "cell_type": "markdown",
   "metadata": {},
   "source": [
    "9\\. Write a <b>for</b> loop that prints only the names in `names` that are three letters long, separated by a new line."
   ]
  },
  {
   "cell_type": "code",
   "execution_count": 13,
   "metadata": {
    "scrolled": true
   },
   "outputs": [
    {
     "name": "stdout",
     "output_type": "stream",
     "text": [
      "Bob\n",
      "Sam\n",
      "Tom\n"
     ]
    }
   ],
   "source": [
    "# Your answer here\n",
    "for i in names:\n",
    "    if len(i) == 3:\n",
    "        print(i, end = \"\\n\")"
   ]
  },
  {
   "cell_type": "markdown",
   "metadata": {},
   "source": [
    "10\\. Write a <b>for</b> loop that prints only the names in `names` that end with either *m* or *y*, separated by a new line."
   ]
  },
  {
   "cell_type": "code",
   "execution_count": 14,
   "metadata": {
    "scrolled": true
   },
   "outputs": [
    {
     "name": "stdout",
     "output_type": "stream",
     "text": [
      "Mary\n",
      "Sam\n",
      "Tom\n"
     ]
    }
   ],
   "source": [
    "# Your answer here\n",
    "for i in names:\n",
    "    if (i[-1] == \"m\") or (i[-1] == \"y\"):\n",
    "        print(i, end = \"\\n\")"
   ]
  },
  {
   "cell_type": "markdown",
   "metadata": {},
   "source": [
    "11\\. Write a nested <b>for</b> loop that prints \"NAME1 & NAME2\", where NAME1 and NAME2 are the elements in `men` and `women`, respectively. Each pair of names should be printed separated by a new line. For example, the first 4 lines in the output should look as follows:"
   ]
  },
  {
   "cell_type": "raw",
   "metadata": {},
   "source": [
    "Bob & Alice\n",
    "Bob & Mary\n",
    "Bob & Sarah\n",
    "Sam & Alice"
   ]
  },
  {
   "cell_type": "code",
   "execution_count": 15,
   "metadata": {},
   "outputs": [],
   "source": [
    "men = [\"Bob\", \"Sam\", \"Tom\"]\n",
    "women = [\"Alice\", \"Mary\", \"Sarah\"]"
   ]
  },
  {
   "cell_type": "code",
   "execution_count": 17,
   "metadata": {},
   "outputs": [
    {
     "name": "stdout",
     "output_type": "stream",
     "text": [
      "Bob & Alice\n",
      "Bob & Mary\n",
      "Bob & Sarah\n",
      "Sam & Alice\n",
      "Sam & Mary\n",
      "Sam & Sarah\n",
      "Tom & Alice\n",
      "Tom & Mary\n",
      "Tom & Sarah\n"
     ]
    }
   ],
   "source": [
    "# Your answer here\n",
    "for m in men:\n",
    "    for w in women:\n",
    "        print(\"{} & {}\".format(m,w), end = \"\\n\")"
   ]
  },
  {
   "cell_type": "markdown",
   "metadata": {},
   "source": [
    "12\\. Write a <b>for</b> loop using the <b>zip</b> function that prints \"NAME1 & NAME2\", where NAME1 and NAME2 are the elements in `men` and `women`, respectively, that are at the same position. Each pair of names should be printed separated by a new line. It should be printed as follows:"
   ]
  },
  {
   "cell_type": "raw",
   "metadata": {},
   "source": [
    "Bob & Alice\n",
    "Sam & Mary\n",
    "Tom & Sarah"
   ]
  },
  {
   "cell_type": "code",
   "execution_count": 18,
   "metadata": {},
   "outputs": [
    {
     "name": "stdout",
     "output_type": "stream",
     "text": [
      "Bob & Alice\n",
      "Sam & Mary\n",
      "Tom & Sarah\n"
     ]
    }
   ],
   "source": [
    "# Your answer here\n",
    "for m,w in zip(men, women):\n",
    "    print(\"{} & {}\".format(m,w))"
   ]
  },
  {
   "cell_type": "markdown",
   "metadata": {},
   "source": [
    "13\\. The variable `l` has all odd numbers from 1 to 999. Write a <b>for</b> loop that adds all numbers in `l` one after another. Print the final sum after the <b>for</b> loop."
   ]
  },
  {
   "cell_type": "code",
   "execution_count": 19,
   "metadata": {},
   "outputs": [],
   "source": [
    "l = range(1, 1000, 2)"
   ]
  },
  {
   "cell_type": "code",
   "execution_count": 20,
   "metadata": {},
   "outputs": [
    {
     "name": "stdout",
     "output_type": "stream",
     "text": [
      "250000\n"
     ]
    }
   ],
   "source": [
    "# Your answer here\n",
    "all = 0\n",
    "for i in l:\n",
    "     all += i\n",
    "    \n",
    "print(all)"
   ]
  },
  {
   "cell_type": "markdown",
   "metadata": {},
   "source": [
    "14\\. Check if the result from the <b>for</b> loop matches the result from the built-in <b>sum</b> function. The outcome must be either True or False. "
   ]
  },
  {
   "cell_type": "code",
   "execution_count": 22,
   "metadata": {},
   "outputs": [
    {
     "data": {
      "text/plain": [
       "True"
      ]
     },
     "execution_count": 22,
     "metadata": {},
     "output_type": "execute_result"
    }
   ],
   "source": [
    "# Your answer here\n",
    "all == sum(l)"
   ]
  },
  {
   "cell_type": "markdown",
   "metadata": {},
   "source": [
    "15\\. Write a <b>for</b> loop that adds all numbers in `l` one after another, printing the intermediate sum for every iteration along with its index position. Print the final sum after the <b>for</b> loop. The first and last 5 lines in the output should look as follows:"
   ]
  },
  {
   "cell_type": "raw",
   "metadata": {},
   "source": [
    "[0] 1\n",
    "[1] 4\n",
    "[2] 9\n",
    "[3] 16\n",
    "[4] 25"
   ]
  },
  {
   "cell_type": "raw",
   "metadata": {},
   "source": [
    "[496] 247009\n",
    "[497] 248004\n",
    "[498] 249001\n",
    "[499] 250000\n",
    "250000"
   ]
  },
  {
   "cell_type": "code",
   "execution_count": 23,
   "metadata": {},
   "outputs": [
    {
     "name": "stdout",
     "output_type": "stream",
     "text": [
      "1\n",
      "4\n",
      "9\n",
      "16\n",
      "25\n",
      "36\n",
      "49\n",
      "64\n",
      "81\n",
      "100\n",
      "121\n",
      "144\n",
      "169\n",
      "196\n",
      "225\n",
      "256\n",
      "289\n",
      "324\n",
      "361\n",
      "400\n",
      "441\n",
      "484\n",
      "529\n",
      "576\n",
      "625\n",
      "676\n",
      "729\n",
      "784\n",
      "841\n",
      "900\n",
      "961\n",
      "1024\n",
      "1089\n",
      "1156\n",
      "1225\n",
      "1296\n",
      "1369\n",
      "1444\n",
      "1521\n",
      "1600\n",
      "1681\n",
      "1764\n",
      "1849\n",
      "1936\n",
      "2025\n",
      "2116\n",
      "2209\n",
      "2304\n",
      "2401\n",
      "2500\n",
      "2601\n",
      "2704\n",
      "2809\n",
      "2916\n",
      "3025\n",
      "3136\n",
      "3249\n",
      "3364\n",
      "3481\n",
      "3600\n",
      "3721\n",
      "3844\n",
      "3969\n",
      "4096\n",
      "4225\n",
      "4356\n",
      "4489\n",
      "4624\n",
      "4761\n",
      "4900\n",
      "5041\n",
      "5184\n",
      "5329\n",
      "5476\n",
      "5625\n",
      "5776\n",
      "5929\n",
      "6084\n",
      "6241\n",
      "6400\n",
      "6561\n",
      "6724\n",
      "6889\n",
      "7056\n",
      "7225\n",
      "7396\n",
      "7569\n",
      "7744\n",
      "7921\n",
      "8100\n",
      "8281\n",
      "8464\n",
      "8649\n",
      "8836\n",
      "9025\n",
      "9216\n",
      "9409\n",
      "9604\n",
      "9801\n",
      "10000\n",
      "10201\n",
      "10404\n",
      "10609\n",
      "10816\n",
      "11025\n",
      "11236\n",
      "11449\n",
      "11664\n",
      "11881\n",
      "12100\n",
      "12321\n",
      "12544\n",
      "12769\n",
      "12996\n",
      "13225\n",
      "13456\n",
      "13689\n",
      "13924\n",
      "14161\n",
      "14400\n",
      "14641\n",
      "14884\n",
      "15129\n",
      "15376\n",
      "15625\n",
      "15876\n",
      "16129\n",
      "16384\n",
      "16641\n",
      "16900\n",
      "17161\n",
      "17424\n",
      "17689\n",
      "17956\n",
      "18225\n",
      "18496\n",
      "18769\n",
      "19044\n",
      "19321\n",
      "19600\n",
      "19881\n",
      "20164\n",
      "20449\n",
      "20736\n",
      "21025\n",
      "21316\n",
      "21609\n",
      "21904\n",
      "22201\n",
      "22500\n",
      "22801\n",
      "23104\n",
      "23409\n",
      "23716\n",
      "24025\n",
      "24336\n",
      "24649\n",
      "24964\n",
      "25281\n",
      "25600\n",
      "25921\n",
      "26244\n",
      "26569\n",
      "26896\n",
      "27225\n",
      "27556\n",
      "27889\n",
      "28224\n",
      "28561\n",
      "28900\n",
      "29241\n",
      "29584\n",
      "29929\n",
      "30276\n",
      "30625\n",
      "30976\n",
      "31329\n",
      "31684\n",
      "32041\n",
      "32400\n",
      "32761\n",
      "33124\n",
      "33489\n",
      "33856\n",
      "34225\n",
      "34596\n",
      "34969\n",
      "35344\n",
      "35721\n",
      "36100\n",
      "36481\n",
      "36864\n",
      "37249\n",
      "37636\n",
      "38025\n",
      "38416\n",
      "38809\n",
      "39204\n",
      "39601\n",
      "40000\n",
      "40401\n",
      "40804\n",
      "41209\n",
      "41616\n",
      "42025\n",
      "42436\n",
      "42849\n",
      "43264\n",
      "43681\n",
      "44100\n",
      "44521\n",
      "44944\n",
      "45369\n",
      "45796\n",
      "46225\n",
      "46656\n",
      "47089\n",
      "47524\n",
      "47961\n",
      "48400\n",
      "48841\n",
      "49284\n",
      "49729\n",
      "50176\n",
      "50625\n",
      "51076\n",
      "51529\n",
      "51984\n",
      "52441\n",
      "52900\n",
      "53361\n",
      "53824\n",
      "54289\n",
      "54756\n",
      "55225\n",
      "55696\n",
      "56169\n",
      "56644\n",
      "57121\n",
      "57600\n",
      "58081\n",
      "58564\n",
      "59049\n",
      "59536\n",
      "60025\n",
      "60516\n",
      "61009\n",
      "61504\n",
      "62001\n",
      "62500\n",
      "63001\n",
      "63504\n",
      "64009\n",
      "64516\n",
      "65025\n",
      "65536\n",
      "66049\n",
      "66564\n",
      "67081\n",
      "67600\n",
      "68121\n",
      "68644\n",
      "69169\n",
      "69696\n",
      "70225\n",
      "70756\n",
      "71289\n",
      "71824\n",
      "72361\n",
      "72900\n",
      "73441\n",
      "73984\n",
      "74529\n",
      "75076\n",
      "75625\n",
      "76176\n",
      "76729\n",
      "77284\n",
      "77841\n",
      "78400\n",
      "78961\n",
      "79524\n",
      "80089\n",
      "80656\n",
      "81225\n",
      "81796\n",
      "82369\n",
      "82944\n",
      "83521\n",
      "84100\n",
      "84681\n",
      "85264\n",
      "85849\n",
      "86436\n",
      "87025\n",
      "87616\n",
      "88209\n",
      "88804\n",
      "89401\n",
      "90000\n",
      "90601\n",
      "91204\n",
      "91809\n",
      "92416\n",
      "93025\n",
      "93636\n",
      "94249\n",
      "94864\n",
      "95481\n",
      "96100\n",
      "96721\n",
      "97344\n",
      "97969\n",
      "98596\n",
      "99225\n",
      "99856\n",
      "100489\n",
      "101124\n",
      "101761\n",
      "102400\n",
      "103041\n",
      "103684\n",
      "104329\n",
      "104976\n",
      "105625\n",
      "106276\n",
      "106929\n",
      "107584\n",
      "108241\n",
      "108900\n",
      "109561\n",
      "110224\n",
      "110889\n",
      "111556\n",
      "112225\n",
      "112896\n",
      "113569\n",
      "114244\n",
      "114921\n",
      "115600\n",
      "116281\n",
      "116964\n",
      "117649\n",
      "118336\n",
      "119025\n",
      "119716\n",
      "120409\n",
      "121104\n",
      "121801\n",
      "122500\n",
      "123201\n",
      "123904\n",
      "124609\n",
      "125316\n",
      "126025\n",
      "126736\n",
      "127449\n",
      "128164\n",
      "128881\n",
      "129600\n",
      "130321\n",
      "131044\n",
      "131769\n",
      "132496\n",
      "133225\n",
      "133956\n",
      "134689\n",
      "135424\n",
      "136161\n",
      "136900\n",
      "137641\n",
      "138384\n",
      "139129\n",
      "139876\n",
      "140625\n",
      "141376\n",
      "142129\n",
      "142884\n",
      "143641\n",
      "144400\n",
      "145161\n",
      "145924\n",
      "146689\n",
      "147456\n",
      "148225\n",
      "148996\n",
      "149769\n",
      "150544\n",
      "151321\n",
      "152100\n",
      "152881\n",
      "153664\n",
      "154449\n",
      "155236\n",
      "156025\n",
      "156816\n",
      "157609\n",
      "158404\n",
      "159201\n",
      "160000\n",
      "160801\n",
      "161604\n",
      "162409\n",
      "163216\n",
      "164025\n",
      "164836\n",
      "165649\n",
      "166464\n",
      "167281\n",
      "168100\n",
      "168921\n",
      "169744\n",
      "170569\n",
      "171396\n",
      "172225\n",
      "173056\n",
      "173889\n",
      "174724\n",
      "175561\n",
      "176400\n",
      "177241\n",
      "178084\n",
      "178929\n",
      "179776\n",
      "180625\n",
      "181476\n",
      "182329\n",
      "183184\n",
      "184041\n",
      "184900\n",
      "185761\n",
      "186624\n",
      "187489\n",
      "188356\n",
      "189225\n",
      "190096\n",
      "190969\n",
      "191844\n",
      "192721\n",
      "193600\n",
      "194481\n",
      "195364\n",
      "196249\n",
      "197136\n",
      "198025\n",
      "198916\n",
      "199809\n",
      "200704\n",
      "201601\n",
      "202500\n",
      "203401\n",
      "204304\n",
      "205209\n",
      "206116\n",
      "207025\n",
      "207936\n",
      "208849\n",
      "209764\n",
      "210681\n",
      "211600\n",
      "212521\n",
      "213444\n",
      "214369\n",
      "215296\n",
      "216225\n",
      "217156\n",
      "218089\n",
      "219024\n",
      "219961\n",
      "220900\n",
      "221841\n",
      "222784\n",
      "223729\n",
      "224676\n",
      "225625\n",
      "226576\n",
      "227529\n",
      "228484\n",
      "229441\n",
      "230400\n",
      "231361\n",
      "232324\n",
      "233289\n",
      "234256\n",
      "235225\n",
      "236196\n",
      "237169\n",
      "238144\n",
      "239121\n",
      "240100\n",
      "241081\n",
      "242064\n",
      "243049\n",
      "244036\n",
      "245025\n",
      "246016\n",
      "247009\n",
      "248004\n",
      "249001\n",
      "250000\n"
     ]
    }
   ],
   "source": [
    "# Your answer here\n",
    "sum = 0\n",
    "for i in l:\n",
    "    sum += i\n",
    "    print(sum)"
   ]
  },
  {
   "cell_type": "markdown",
   "metadata": {},
   "source": [
    "16\\. Write a <b>for</b> loop that calculates the product of the first 10 numbers in `l`. Print the final product after the <b>for</b> loop."
   ]
  },
  {
   "cell_type": "code",
   "execution_count": 24,
   "metadata": {},
   "outputs": [
    {
     "name": "stdout",
     "output_type": "stream",
     "text": [
      "654729075\n"
     ]
    }
   ],
   "source": [
    "# Your answer here\n",
    "sum = 1\n",
    "for i in l[:10]:\n",
    "    sum *= i\n",
    "print(sum)"
   ]
  },
  {
   "cell_type": "markdown",
   "metadata": {},
   "source": [
    "## Exercises for List Comprehension"
   ]
  },
  {
   "cell_type": "markdown",
   "metadata": {},
   "source": [
    "1\\. Not using and using list comprehension, create a list `l2` of squares of the numbers in `l1`."
   ]
  },
  {
   "cell_type": "code",
   "execution_count": 5,
   "metadata": {},
   "outputs": [],
   "source": [
    "l1 = [1, 2, 3, 4, 5]"
   ]
  },
  {
   "cell_type": "code",
   "execution_count": 6,
   "metadata": {},
   "outputs": [
    {
     "data": {
      "text/plain": [
       "[1, 4, 9, 16, 25]"
      ]
     },
     "execution_count": 6,
     "metadata": {},
     "output_type": "execute_result"
    }
   ],
   "source": [
    "# Your answer here NOT using list comprehension\n",
    "l2 = []\n",
    "for num in l1:\n",
    "    l2.append(num ** 2)\n",
    "    \n",
    "l2"
   ]
  },
  {
   "cell_type": "code",
   "execution_count": 7,
   "metadata": {},
   "outputs": [
    {
     "data": {
      "text/plain": [
       "[1, 4, 9, 16, 25]"
      ]
     },
     "execution_count": 7,
     "metadata": {},
     "output_type": "execute_result"
    }
   ],
   "source": [
    "# Your answer here USING list comprehension\n",
    "l2 = [num ** 2 for num in l1]\n",
    "l2"
   ]
  },
  {
   "cell_type": "markdown",
   "metadata": {},
   "source": [
    "2\\. Not using and using  list comprehension, create a list `l3` of lists, each of which contains the square and cube of each number in `l1`. For example, the last element in `l3` is [25, 125]."
   ]
  },
  {
   "cell_type": "code",
   "execution_count": 9,
   "metadata": {},
   "outputs": [
    {
     "data": {
      "text/plain": [
       "[[1, 1], [4, 8], [9, 27], [16, 64], [25, 125]]"
      ]
     },
     "execution_count": 9,
     "metadata": {},
     "output_type": "execute_result"
    }
   ],
   "source": [
    "# Your answer here NOT using list comprehension\n",
    "l3 = []\n",
    "for num in l1:\n",
    "    l3.append([num **2, num **3])\n",
    "l3"
   ]
  },
  {
   "cell_type": "code",
   "execution_count": 10,
   "metadata": {},
   "outputs": [
    {
     "data": {
      "text/plain": [
       "[[1, 1], [4, 8], [9, 27], [16, 64], [25, 125]]"
      ]
     },
     "execution_count": 10,
     "metadata": {},
     "output_type": "execute_result"
    }
   ],
   "source": [
    "# Your answer here using list comprehension\n",
    "l3 = [[num ** 2, num ** 3] for num in l1]\n",
    "l3"
   ]
  },
  {
   "cell_type": "markdown",
   "metadata": {},
   "source": [
    "3\\. Using list comprehension, create a list `names2` of the names in `names` in lower case."
   ]
  },
  {
   "cell_type": "code",
   "execution_count": 2,
   "metadata": {},
   "outputs": [],
   "source": [
    "names = [\"Alice\", \"Bob\", \"Tom\"]"
   ]
  },
  {
   "cell_type": "code",
   "execution_count": 3,
   "metadata": {},
   "outputs": [
    {
     "data": {
      "text/plain": [
       "['alice', 'bob', 'tom']"
      ]
     },
     "execution_count": 3,
     "metadata": {},
     "output_type": "execute_result"
    }
   ],
   "source": [
    "# Your answer here\n",
    "names2 = []\n",
    "for name in names :\n",
    "    names2.append(name.lower())\n",
    "    \n",
    "names2"
   ]
  },
  {
   "cell_type": "markdown",
   "metadata": {},
   "source": [
    "4\\. Using list comprehension, create a list `names3` of tuples, each of which contains each name in `names` and the length of the name. For example, the first element in `names` is ('Alice', 5). "
   ]
  },
  {
   "cell_type": "code",
   "execution_count": 4,
   "metadata": {},
   "outputs": [
    {
     "data": {
      "text/plain": [
       "[['Alice', 5], ['Bob', 3], ['Tom', 3]]"
      ]
     },
     "execution_count": 4,
     "metadata": {},
     "output_type": "execute_result"
    }
   ],
   "source": [
    "# Your answer here\n",
    "names3 = []\n",
    "for name in names:\n",
    "    names3.append([name, len(name)])\n",
    "    \n",
    "names3"
   ]
  },
  {
   "cell_type": "markdown",
   "metadata": {},
   "source": [
    "## Exercises for Break, Continue, and Pass"
   ]
  },
  {
   "cell_type": "markdown",
   "metadata": {},
   "source": [
    "1\\. Write a <b>for</b> loop that prints all names in `names` except for *Mary*. (Use <b>continue</b>.)"
   ]
  },
  {
   "cell_type": "code",
   "execution_count": 12,
   "metadata": {},
   "outputs": [],
   "source": [
    "names = [\"Alice\", \"Bob\", \"Mary\", \"Sam\", \"Sarah\", \"Tom\"]"
   ]
  },
  {
   "cell_type": "code",
   "execution_count": 13,
   "metadata": {},
   "outputs": [
    {
     "name": "stdout",
     "output_type": "stream",
     "text": [
      "Alice\n",
      "Bob\n",
      "Sam\n",
      "Sarah\n",
      "Tom\n"
     ]
    }
   ],
   "source": [
    "# Your answer here\n",
    "for name in names:\n",
    "    if name == \"Mary\":\n",
    "        continue\n",
    "    print(name)"
   ]
  },
  {
   "cell_type": "markdown",
   "metadata": {},
   "source": [
    "2\\. Write a <b>for</b> loop that prints the names in `names` from the beginning but stops when it sees *Mary*."
   ]
  },
  {
   "cell_type": "code",
   "execution_count": 14,
   "metadata": {},
   "outputs": [
    {
     "name": "stdout",
     "output_type": "stream",
     "text": [
      "Alice\n",
      "Bob\n"
     ]
    }
   ],
   "source": [
    "# Your answer here\n",
    "for name in names:\n",
    "    if name == \"Mary\":\n",
    "        break\n",
    "    print(name)"
   ]
  },
  {
   "cell_type": "markdown",
   "metadata": {},
   "source": [
    "3\\. Write a <b>for</b> loop that adds all numbers in `l` except for multiples of 5. Print the final sum after the <b>for</b> loop. (Use <b>continue</b>.)"
   ]
  },
  {
   "cell_type": "code",
   "execution_count": 5,
   "metadata": {},
   "outputs": [],
   "source": [
    "l = range(1, 1001)"
   ]
  },
  {
   "cell_type": "code",
   "execution_count": 6,
   "metadata": {},
   "outputs": [
    {
     "name": "stdout",
     "output_type": "stream",
     "text": [
      "1\n",
      "2\n",
      "3\n",
      "4\n",
      "6\n",
      "7\n",
      "8\n",
      "9\n",
      "11\n",
      "12\n",
      "13\n",
      "14\n",
      "16\n",
      "17\n",
      "18\n",
      "19\n",
      "21\n",
      "22\n",
      "23\n",
      "24\n",
      "26\n",
      "27\n",
      "28\n",
      "29\n",
      "31\n",
      "32\n",
      "33\n",
      "34\n",
      "36\n",
      "37\n",
      "38\n",
      "39\n",
      "41\n",
      "42\n",
      "43\n",
      "44\n",
      "46\n",
      "47\n",
      "48\n",
      "49\n",
      "51\n",
      "52\n",
      "53\n",
      "54\n",
      "56\n",
      "57\n",
      "58\n",
      "59\n",
      "61\n",
      "62\n",
      "63\n",
      "64\n",
      "66\n",
      "67\n",
      "68\n",
      "69\n",
      "71\n",
      "72\n",
      "73\n",
      "74\n",
      "76\n",
      "77\n",
      "78\n",
      "79\n",
      "81\n",
      "82\n",
      "83\n",
      "84\n",
      "86\n",
      "87\n",
      "88\n",
      "89\n",
      "91\n",
      "92\n",
      "93\n",
      "94\n",
      "96\n",
      "97\n",
      "98\n",
      "99\n",
      "101\n",
      "102\n",
      "103\n",
      "104\n",
      "106\n",
      "107\n",
      "108\n",
      "109\n",
      "111\n",
      "112\n",
      "113\n",
      "114\n",
      "116\n",
      "117\n",
      "118\n",
      "119\n",
      "121\n",
      "122\n",
      "123\n",
      "124\n",
      "126\n",
      "127\n",
      "128\n",
      "129\n",
      "131\n",
      "132\n",
      "133\n",
      "134\n",
      "136\n",
      "137\n",
      "138\n",
      "139\n",
      "141\n",
      "142\n",
      "143\n",
      "144\n",
      "146\n",
      "147\n",
      "148\n",
      "149\n",
      "151\n",
      "152\n",
      "153\n",
      "154\n",
      "156\n",
      "157\n",
      "158\n",
      "159\n",
      "161\n",
      "162\n",
      "163\n",
      "164\n",
      "166\n",
      "167\n",
      "168\n",
      "169\n",
      "171\n",
      "172\n",
      "173\n",
      "174\n",
      "176\n",
      "177\n",
      "178\n",
      "179\n",
      "181\n",
      "182\n",
      "183\n",
      "184\n",
      "186\n",
      "187\n",
      "188\n",
      "189\n",
      "191\n",
      "192\n",
      "193\n",
      "194\n",
      "196\n",
      "197\n",
      "198\n",
      "199\n",
      "201\n",
      "202\n",
      "203\n",
      "204\n",
      "206\n",
      "207\n",
      "208\n",
      "209\n",
      "211\n",
      "212\n",
      "213\n",
      "214\n",
      "216\n",
      "217\n",
      "218\n",
      "219\n",
      "221\n",
      "222\n",
      "223\n",
      "224\n",
      "226\n",
      "227\n",
      "228\n",
      "229\n",
      "231\n",
      "232\n",
      "233\n",
      "234\n",
      "236\n",
      "237\n",
      "238\n",
      "239\n",
      "241\n",
      "242\n",
      "243\n",
      "244\n",
      "246\n",
      "247\n",
      "248\n",
      "249\n",
      "251\n",
      "252\n",
      "253\n",
      "254\n",
      "256\n",
      "257\n",
      "258\n",
      "259\n",
      "261\n",
      "262\n",
      "263\n",
      "264\n",
      "266\n",
      "267\n",
      "268\n",
      "269\n",
      "271\n",
      "272\n",
      "273\n",
      "274\n",
      "276\n",
      "277\n",
      "278\n",
      "279\n",
      "281\n",
      "282\n",
      "283\n",
      "284\n",
      "286\n",
      "287\n",
      "288\n",
      "289\n",
      "291\n",
      "292\n",
      "293\n",
      "294\n",
      "296\n",
      "297\n",
      "298\n",
      "299\n",
      "301\n",
      "302\n",
      "303\n",
      "304\n",
      "306\n",
      "307\n",
      "308\n",
      "309\n",
      "311\n",
      "312\n",
      "313\n",
      "314\n",
      "316\n",
      "317\n",
      "318\n",
      "319\n",
      "321\n",
      "322\n",
      "323\n",
      "324\n",
      "326\n",
      "327\n",
      "328\n",
      "329\n",
      "331\n",
      "332\n",
      "333\n",
      "334\n",
      "336\n",
      "337\n",
      "338\n",
      "339\n",
      "341\n",
      "342\n",
      "343\n",
      "344\n",
      "346\n",
      "347\n",
      "348\n",
      "349\n",
      "351\n",
      "352\n",
      "353\n",
      "354\n",
      "356\n",
      "357\n",
      "358\n",
      "359\n",
      "361\n",
      "362\n",
      "363\n",
      "364\n",
      "366\n",
      "367\n",
      "368\n",
      "369\n",
      "371\n",
      "372\n",
      "373\n",
      "374\n",
      "376\n",
      "377\n",
      "378\n",
      "379\n",
      "381\n",
      "382\n",
      "383\n",
      "384\n",
      "386\n",
      "387\n",
      "388\n",
      "389\n",
      "391\n",
      "392\n",
      "393\n",
      "394\n",
      "396\n",
      "397\n",
      "398\n",
      "399\n",
      "401\n",
      "402\n",
      "403\n",
      "404\n",
      "406\n",
      "407\n",
      "408\n",
      "409\n",
      "411\n",
      "412\n",
      "413\n",
      "414\n",
      "416\n",
      "417\n",
      "418\n",
      "419\n",
      "421\n",
      "422\n",
      "423\n",
      "424\n",
      "426\n",
      "427\n",
      "428\n",
      "429\n",
      "431\n",
      "432\n",
      "433\n",
      "434\n",
      "436\n",
      "437\n",
      "438\n",
      "439\n",
      "441\n",
      "442\n",
      "443\n",
      "444\n",
      "446\n",
      "447\n",
      "448\n",
      "449\n",
      "451\n",
      "452\n",
      "453\n",
      "454\n",
      "456\n",
      "457\n",
      "458\n",
      "459\n",
      "461\n",
      "462\n",
      "463\n",
      "464\n",
      "466\n",
      "467\n",
      "468\n",
      "469\n",
      "471\n",
      "472\n",
      "473\n",
      "474\n",
      "476\n",
      "477\n",
      "478\n",
      "479\n",
      "481\n",
      "482\n",
      "483\n",
      "484\n",
      "486\n",
      "487\n",
      "488\n",
      "489\n",
      "491\n",
      "492\n",
      "493\n",
      "494\n",
      "496\n",
      "497\n",
      "498\n",
      "499\n",
      "501\n",
      "502\n",
      "503\n",
      "504\n",
      "506\n",
      "507\n",
      "508\n",
      "509\n",
      "511\n",
      "512\n",
      "513\n",
      "514\n",
      "516\n",
      "517\n",
      "518\n",
      "519\n",
      "521\n",
      "522\n",
      "523\n",
      "524\n",
      "526\n",
      "527\n",
      "528\n",
      "529\n",
      "531\n",
      "532\n",
      "533\n",
      "534\n",
      "536\n",
      "537\n",
      "538\n",
      "539\n",
      "541\n",
      "542\n",
      "543\n",
      "544\n",
      "546\n",
      "547\n",
      "548\n",
      "549\n",
      "551\n",
      "552\n",
      "553\n",
      "554\n",
      "556\n",
      "557\n",
      "558\n",
      "559\n",
      "561\n",
      "562\n",
      "563\n",
      "564\n",
      "566\n",
      "567\n",
      "568\n",
      "569\n",
      "571\n",
      "572\n",
      "573\n",
      "574\n",
      "576\n",
      "577\n",
      "578\n",
      "579\n",
      "581\n",
      "582\n",
      "583\n",
      "584\n",
      "586\n",
      "587\n",
      "588\n",
      "589\n",
      "591\n",
      "592\n",
      "593\n",
      "594\n",
      "596\n",
      "597\n",
      "598\n",
      "599\n",
      "601\n",
      "602\n",
      "603\n",
      "604\n",
      "606\n",
      "607\n",
      "608\n",
      "609\n",
      "611\n",
      "612\n",
      "613\n",
      "614\n",
      "616\n",
      "617\n",
      "618\n",
      "619\n",
      "621\n",
      "622\n",
      "623\n",
      "624\n",
      "626\n",
      "627\n",
      "628\n",
      "629\n",
      "631\n",
      "632\n",
      "633\n",
      "634\n",
      "636\n",
      "637\n",
      "638\n",
      "639\n",
      "641\n",
      "642\n",
      "643\n",
      "644\n",
      "646\n",
      "647\n",
      "648\n",
      "649\n",
      "651\n",
      "652\n",
      "653\n",
      "654\n",
      "656\n",
      "657\n",
      "658\n",
      "659\n",
      "661\n",
      "662\n",
      "663\n",
      "664\n",
      "666\n",
      "667\n",
      "668\n",
      "669\n",
      "671\n",
      "672\n",
      "673\n",
      "674\n",
      "676\n",
      "677\n",
      "678\n",
      "679\n",
      "681\n",
      "682\n",
      "683\n",
      "684\n",
      "686\n",
      "687\n",
      "688\n",
      "689\n",
      "691\n",
      "692\n",
      "693\n",
      "694\n",
      "696\n",
      "697\n",
      "698\n",
      "699\n",
      "701\n",
      "702\n",
      "703\n",
      "704\n",
      "706\n",
      "707\n",
      "708\n",
      "709\n",
      "711\n",
      "712\n",
      "713\n",
      "714\n",
      "716\n",
      "717\n",
      "718\n",
      "719\n",
      "721\n",
      "722\n",
      "723\n",
      "724\n",
      "726\n",
      "727\n",
      "728\n",
      "729\n",
      "731\n",
      "732\n",
      "733\n",
      "734\n",
      "736\n",
      "737\n",
      "738\n",
      "739\n",
      "741\n",
      "742\n",
      "743\n",
      "744\n",
      "746\n",
      "747\n",
      "748\n",
      "749\n",
      "751\n",
      "752\n",
      "753\n",
      "754\n",
      "756\n",
      "757\n",
      "758\n",
      "759\n",
      "761\n",
      "762\n",
      "763\n",
      "764\n",
      "766\n",
      "767\n",
      "768\n",
      "769\n",
      "771\n",
      "772\n",
      "773\n",
      "774\n",
      "776\n",
      "777\n",
      "778\n",
      "779\n",
      "781\n",
      "782\n",
      "783\n",
      "784\n",
      "786\n",
      "787\n",
      "788\n",
      "789\n",
      "791\n",
      "792\n",
      "793\n",
      "794\n",
      "796\n",
      "797\n",
      "798\n",
      "799\n",
      "801\n",
      "802\n",
      "803\n",
      "804\n",
      "806\n",
      "807\n",
      "808\n",
      "809\n",
      "811\n",
      "812\n",
      "813\n",
      "814\n",
      "816\n",
      "817\n",
      "818\n",
      "819\n",
      "821\n",
      "822\n",
      "823\n",
      "824\n",
      "826\n",
      "827\n",
      "828\n",
      "829\n",
      "831\n",
      "832\n",
      "833\n",
      "834\n",
      "836\n",
      "837\n",
      "838\n",
      "839\n",
      "841\n",
      "842\n",
      "843\n",
      "844\n",
      "846\n",
      "847\n",
      "848\n",
      "849\n",
      "851\n",
      "852\n",
      "853\n",
      "854\n",
      "856\n",
      "857\n",
      "858\n",
      "859\n",
      "861\n",
      "862\n",
      "863\n",
      "864\n",
      "866\n",
      "867\n",
      "868\n",
      "869\n",
      "871\n",
      "872\n",
      "873\n",
      "874\n",
      "876\n",
      "877\n",
      "878\n",
      "879\n",
      "881\n",
      "882\n",
      "883\n",
      "884\n",
      "886\n",
      "887\n",
      "888\n",
      "889\n",
      "891\n",
      "892\n",
      "893\n",
      "894\n",
      "896\n",
      "897\n",
      "898\n",
      "899\n",
      "901\n",
      "902\n",
      "903\n",
      "904\n",
      "906\n",
      "907\n",
      "908\n",
      "909\n",
      "911\n",
      "912\n",
      "913\n",
      "914\n",
      "916\n",
      "917\n",
      "918\n",
      "919\n",
      "921\n",
      "922\n",
      "923\n",
      "924\n",
      "926\n",
      "927\n",
      "928\n",
      "929\n",
      "931\n",
      "932\n",
      "933\n",
      "934\n",
      "936\n",
      "937\n",
      "938\n",
      "939\n",
      "941\n",
      "942\n",
      "943\n",
      "944\n",
      "946\n",
      "947\n",
      "948\n",
      "949\n",
      "951\n",
      "952\n",
      "953\n",
      "954\n",
      "956\n",
      "957\n",
      "958\n",
      "959\n",
      "961\n",
      "962\n",
      "963\n",
      "964\n",
      "966\n",
      "967\n",
      "968\n",
      "969\n",
      "971\n",
      "972\n",
      "973\n",
      "974\n",
      "976\n",
      "977\n",
      "978\n",
      "979\n",
      "981\n",
      "982\n",
      "983\n",
      "984\n",
      "986\n",
      "987\n",
      "988\n",
      "989\n",
      "991\n",
      "992\n",
      "993\n",
      "994\n",
      "996\n",
      "997\n",
      "998\n",
      "999\n"
     ]
    }
   ],
   "source": [
    "# Your answer here\n",
    "for i in l:\n",
    "    if i % 5 == 0:\n",
    "        continue\n",
    "    print(i)   "
   ]
  },
  {
   "cell_type": "markdown",
   "metadata": {},
   "source": [
    "4\\. Write a <b>for</b> loop that adds numbers in `l` from the beginning but stops when the intermediate sum exceeds 1000, printing the current sum and the number last added."
   ]
  },
  {
   "cell_type": "code",
   "execution_count": 7,
   "metadata": {
    "scrolled": true
   },
   "outputs": [
    {
     "name": "stdout",
     "output_type": "stream",
     "text": [
      "1 1\n",
      "3 2\n",
      "6 3\n",
      "10 4\n",
      "15 5\n",
      "21 6\n",
      "28 7\n",
      "36 8\n",
      "45 9\n",
      "55 10\n",
      "66 11\n",
      "78 12\n",
      "91 13\n",
      "105 14\n",
      "120 15\n",
      "136 16\n",
      "153 17\n",
      "171 18\n",
      "190 19\n",
      "210 20\n",
      "231 21\n",
      "253 22\n",
      "276 23\n",
      "300 24\n",
      "325 25\n",
      "351 26\n",
      "378 27\n",
      "406 28\n",
      "435 29\n",
      "465 30\n",
      "496 31\n",
      "528 32\n",
      "561 33\n",
      "595 34\n",
      "630 35\n",
      "666 36\n",
      "703 37\n",
      "741 38\n",
      "780 39\n",
      "820 40\n",
      "861 41\n",
      "903 42\n",
      "946 43\n",
      "990 44\n"
     ]
    }
   ],
   "source": [
    "# Your answer here\n",
    "total = 0 \n",
    "for i in l:\n",
    "    total += i\n",
    "    if total > 1000:\n",
    "        break\n",
    "    print(total, i)"
   ]
  },
  {
   "cell_type": "markdown",
   "metadata": {},
   "source": [
    "## Exercises for User-Defined Functions"
   ]
  },
  {
   "cell_type": "markdown",
   "metadata": {},
   "source": [
    "1\\. Write a function `concatenate` that takes two strings `s1` and `s2` as arguments and returns the concatenation of the two strings with a space between them. "
   ]
  },
  {
   "cell_type": "code",
   "execution_count": 15,
   "metadata": {},
   "outputs": [],
   "source": [
    "# Your answer here\n",
    "def concatenate(s1, s2):\n",
    "    return s1 + \" \" + s2"
   ]
  },
  {
   "cell_type": "code",
   "execution_count": 16,
   "metadata": {
    "scrolled": true
   },
   "outputs": [
    {
     "data": {
      "text/plain": [
       "'Learning Python'"
      ]
     },
     "execution_count": 16,
     "metadata": {},
     "output_type": "execute_result"
    }
   ],
   "source": [
    "# Test the function here\n",
    "concatenate(\"Learning\", \"Python\")     # Output: 'Learning Python'"
   ]
  },
  {
   "cell_type": "markdown",
   "metadata": {},
   "source": [
    "2\\. Write a function `concatenate_all` that takes a list `l` of strings as an argument and returns the concatenation of all strings in `l` with a space between them. "
   ]
  },
  {
   "cell_type": "code",
   "execution_count": 17,
   "metadata": {},
   "outputs": [],
   "source": [
    "# Your answer here\n",
    "def concatenate_all(l):\n",
    "    return \" \".join(l)"
   ]
  },
  {
   "cell_type": "code",
   "execution_count": 18,
   "metadata": {},
   "outputs": [
    {
     "data": {
      "text/plain": [
       "'Python R SAS SPSS Matlab Stata'"
      ]
     },
     "execution_count": 18,
     "metadata": {},
     "output_type": "execute_result"
    }
   ],
   "source": [
    "# Test the function here\n",
    "concatenate_all([\"Python\", \"R\", \"SAS\", \"SPSS\", \"Matlab\", \"Stata\"])     # Output: 'Python R SAS SPSS Matlab Stata'"
   ]
  },
  {
   "cell_type": "markdown",
   "metadata": {},
   "source": [
    "3\\. Write a function `get_min` that takes two numbers `num1` and `num2` as arguments and returns the less value. If the two numbers are equal, it returns either value. "
   ]
  },
  {
   "cell_type": "code",
   "execution_count": 8,
   "metadata": {},
   "outputs": [],
   "source": [
    "# Your answer here\n",
    "def get_min(num1, num2):\n",
    "    return min(num1, num2)"
   ]
  },
  {
   "cell_type": "code",
   "execution_count": 9,
   "metadata": {},
   "outputs": [
    {
     "data": {
      "text/plain": [
       "3"
      ]
     },
     "execution_count": 9,
     "metadata": {},
     "output_type": "execute_result"
    }
   ],
   "source": [
    "# Test the function here\n",
    "get_min(3, 5)     # Output: 3"
   ]
  },
  {
   "cell_type": "code",
   "execution_count": 10,
   "metadata": {},
   "outputs": [
    {
     "data": {
      "text/plain": [
       "3"
      ]
     },
     "execution_count": 10,
     "metadata": {},
     "output_type": "execute_result"
    }
   ],
   "source": [
    "# Test the function here\n",
    "get_min(3, 3)     # Output: 3"
   ]
  },
  {
   "cell_type": "markdown",
   "metadata": {},
   "source": [
    "4\\. Write a function `get_min_all` that takes a list `l` of numbers as an argument and returns the least value in `l`. If the two numbers are equal, it returns either value. "
   ]
  },
  {
   "cell_type": "code",
   "execution_count": 11,
   "metadata": {},
   "outputs": [],
   "source": [
    "# Your answer here\n",
    "def get_min_all (l):\n",
    "    return min(l)"
   ]
  },
  {
   "cell_type": "code",
   "execution_count": 12,
   "metadata": {},
   "outputs": [
    {
     "data": {
      "text/plain": [
       "2"
      ]
     },
     "execution_count": 12,
     "metadata": {},
     "output_type": "execute_result"
    }
   ],
   "source": [
    "# Test the function here\n",
    "get_min_all([3, 2, 9, 6, 2, 7])     # Output: 2"
   ]
  },
  {
   "cell_type": "markdown",
   "metadata": {},
   "source": [
    "5\\. Write a function `get_abs_min_all` that takes a list `l` of numbers as an argument and returns the least absolute value in `l`. If the two numbers are equal, it returns either value. "
   ]
  },
  {
   "cell_type": "code",
   "execution_count": 13,
   "metadata": {},
   "outputs": [],
   "source": [
    "# Your answer here\n",
    "def get_abs_min_all(l):\n",
    "    for i in range(len(l)):\n",
    "        l[i] = abs(l[i])\n",
    "    return min(l)"
   ]
  },
  {
   "cell_type": "code",
   "execution_count": 14,
   "metadata": {},
   "outputs": [
    {
     "data": {
      "text/plain": [
       "2"
      ]
     },
     "execution_count": 14,
     "metadata": {},
     "output_type": "execute_result"
    }
   ],
   "source": [
    "# Test the function here\n",
    "get_abs_min_all([-3, 5, -9, -6, -2, 7])     # Output: 2"
   ]
  },
  {
   "cell_type": "markdown",
   "metadata": {},
   "source": [
    "6\\. Write a function `get_head_tail` that takes a list `l` as an argument and returns the first and last elements in `l`. If `l` has less than 2 elements, it should return \"*The input list is too short!*\". "
   ]
  },
  {
   "cell_type": "code",
   "execution_count": 15,
   "metadata": {},
   "outputs": [],
   "source": [
    "# Your answer here\n",
    "def get_head_tail(l):\n",
    "    if len(l) <2:\n",
    "        return \"The input list is too short!\"\n",
    "    else:\n",
    "        return l[0], l[-1]"
   ]
  },
  {
   "cell_type": "code",
   "execution_count": 16,
   "metadata": {
    "scrolled": true
   },
   "outputs": [
    {
     "data": {
      "text/plain": [
       "('Python', 'Stata')"
      ]
     },
     "execution_count": 16,
     "metadata": {},
     "output_type": "execute_result"
    }
   ],
   "source": [
    "# Test the function here\n",
    "get_head_tail([\"Python\", \"R\", \"SAS\", \"SPSS\", \"Matlab\", \"Stata\"]) # Output: ('Python', 'Stata')."
   ]
  },
  {
   "cell_type": "code",
   "execution_count": 17,
   "metadata": {
    "scrolled": true
   },
   "outputs": [
    {
     "data": {
      "text/plain": [
       "'The input list is too short!'"
      ]
     },
     "execution_count": 17,
     "metadata": {},
     "output_type": "execute_result"
    }
   ],
   "source": [
    "# Test the function here\n",
    "get_head_tail([\"Python\"])                                        # Output: 'The input list is too short!'."
   ]
  },
  {
   "cell_type": "markdown",
   "metadata": {},
   "source": [
    "### Adanced Exercises"
   ]
  },
  {
   "cell_type": "markdown",
   "metadata": {},
   "source": [
    "7\\. Write a function `highlight` that takes two strings `s` and `subs` as arguments and returns a new copy of `s` with its substring `subs` highlighted in upper case. If `s` does not contain `subs`, it should return \"*No substring!*\". "
   ]
  },
  {
   "cell_type": "code",
   "execution_count": 18,
   "metadata": {},
   "outputs": [],
   "source": [
    "# Your answer here\n",
    "def highlight(s, subs):\n",
    "    if subs not in s:\n",
    "        return \"No substring!\"\n",
    "    \n",
    "    return s.replace(subs, subs.upper())"
   ]
  },
  {
   "cell_type": "code",
   "execution_count": 19,
   "metadata": {
    "scrolled": true
   },
   "outputs": [
    {
     "data": {
      "text/plain": [
       "\"I'm learning PYTHON data analytics.\""
      ]
     },
     "execution_count": 19,
     "metadata": {},
     "output_type": "execute_result"
    }
   ],
   "source": [
    "# Test the function here\n",
    "highlight(\"I'm learning Python data analytics.\", \"Python\")       # Output: \"I'm learning PYTHON data analytics.\""
   ]
  },
  {
   "cell_type": "code",
   "execution_count": 20,
   "metadata": {
    "scrolled": false
   },
   "outputs": [
    {
     "data": {
      "text/plain": [
       "'No substring!'"
      ]
     },
     "execution_count": 20,
     "metadata": {},
     "output_type": "execute_result"
    }
   ],
   "source": [
    "# Test the function here\n",
    "highlight(\"I'm learning Python data analytics.\", \"SAS\")          # Output: 'No substring!'."
   ]
  },
  {
   "cell_type": "markdown",
   "metadata": {},
   "source": [
    "8\\. Write a function *trim_message* that takes a string `message` and two integers `start` and `end` as arguments and returns the substring of `message` that starts at the index position `start` and ends at the index position `end` - 1."
   ]
  },
  {
   "cell_type": "code",
   "execution_count": 21,
   "metadata": {},
   "outputs": [],
   "source": [
    "# Your answer here\n",
    "def trim_message(message, start, end):\n",
    "    \n",
    "    return message[start:end]"
   ]
  },
  {
   "cell_type": "code",
   "execution_count": 22,
   "metadata": {
    "scrolled": true
   },
   "outputs": [
    {
     "data": {
      "text/plain": [
       "'Python'"
      ]
     },
     "execution_count": 22,
     "metadata": {},
     "output_type": "execute_result"
    }
   ],
   "source": [
    "# Test the function here\n",
    "trim_message(\"I'm learning Python data analytics.\", 13, 19)      # Output: 'Python'"
   ]
  },
  {
   "cell_type": "markdown",
   "metadata": {},
   "source": [
    "9\\. Write a function `trim_message2` that works the same as `trim_message` above. In addition, check inside the function if a) the type of `message` is <b>str</b> and b) the types of `start` and `end` are <b>int</b>. If any of those evaluates to false, return \"*Invalid parameter type!*\". Check also if a) `start` is greater than or equal to 0, b) `start` is less than `end`, and c) `end` is less than or equal to the length of `message`. If any of those evaluates to false, return \"*Invalid parameter value!*\"."
   ]
  },
  {
   "cell_type": "code",
   "execution_count": 23,
   "metadata": {},
   "outputs": [],
   "source": [
    "# Your answer here\n",
    "def trim_message2(message, start, end):\n",
    "    if not type(message) == str:\n",
    "        return \"Invalid parameter type!\"\n",
    "    if not type(start) == int:\n",
    "        return \"Invalid parameter type!\"\n",
    "    if not type(end) == int:\n",
    "        return \"Invalid parameter type!\"\n",
    "    if not start >= 0:\n",
    "        return \"Invalid parameter type!\"\n",
    "    if not start < end:\n",
    "        return \"Invalid parameter type!\"\n",
    "    if not end <= len(message):\n",
    "        return \"Invalid parameter type!\"\n",
    "    return message[start:end]"
   ]
  },
  {
   "cell_type": "code",
   "execution_count": 24,
   "metadata": {},
   "outputs": [
    {
     "data": {
      "text/plain": [
       "'Python'"
      ]
     },
     "execution_count": 24,
     "metadata": {},
     "output_type": "execute_result"
    }
   ],
   "source": [
    "# Test the function here\n",
    "trim_message2(\"I'm learning Python data analytics.\", 13, 19)     # Output: 'Python'    "
   ]
  },
  {
   "cell_type": "code",
   "execution_count": 25,
   "metadata": {},
   "outputs": [
    {
     "data": {
      "text/plain": [
       "'Invalid parameter type!'"
      ]
     },
     "execution_count": 25,
     "metadata": {},
     "output_type": "execute_result"
    }
   ],
   "source": [
    "# Test the function here\n",
    "trim_message2(10000, 13, 19)                                     # Output: 'Invalid parameter type!'"
   ]
  },
  {
   "cell_type": "code",
   "execution_count": 26,
   "metadata": {
    "scrolled": true
   },
   "outputs": [
    {
     "data": {
      "text/plain": [
       "'Invalid parameter type!'"
      ]
     },
     "execution_count": 26,
     "metadata": {},
     "output_type": "execute_result"
    }
   ],
   "source": [
    "# Test the function here\n",
    "trim_message2(\"I'm learning Python data analytics.\", -1, 19)     # Output: 'Invalid parameter value!'"
   ]
  },
  {
   "cell_type": "code",
   "execution_count": 27,
   "metadata": {},
   "outputs": [
    {
     "data": {
      "text/plain": [
       "'Invalid parameter type!'"
      ]
     },
     "execution_count": 27,
     "metadata": {},
     "output_type": "execute_result"
    }
   ],
   "source": [
    "# Test the function here\n",
    "trim_message2(\"I'm learning Python data analytics.\", 13, 10)     # Output: 'Invalid parameter value!'"
   ]
  },
  {
   "cell_type": "code",
   "execution_count": 28,
   "metadata": {},
   "outputs": [
    {
     "data": {
      "text/plain": [
       "'Invalid parameter type!'"
      ]
     },
     "execution_count": 28,
     "metadata": {},
     "output_type": "execute_result"
    }
   ],
   "source": [
    "# Test the function here\n",
    "trim_message2(\"I'm learning Python data analytics.\", 13, 100)    # Output: 'Invalid parameter value!'"
   ]
  },
  {
   "cell_type": "markdown",
   "metadata": {},
   "source": [
    "10\\. Create a dictionary `kwargs` that sets the parameter values of `message`, `start`, and `end` on your own and then call the function `trim_message2` by passing `kwargs`."
   ]
  },
  {
   "cell_type": "code",
   "execution_count": 29,
   "metadata": {},
   "outputs": [],
   "source": [
    "# Your answer here\n",
    "kwargs = {\"message\" : \"I'm learning Python data analytics.\", \"start\": 13, \"end\": 19}"
   ]
  },
  {
   "cell_type": "code",
   "execution_count": 30,
   "metadata": {},
   "outputs": [
    {
     "data": {
      "text/plain": [
       "'Python'"
      ]
     },
     "execution_count": 30,
     "metadata": {},
     "output_type": "execute_result"
    }
   ],
   "source": [
    "# Test the function here\n",
    "trim_message2(**kwargs)"
   ]
  },
  {
   "cell_type": "markdown",
   "metadata": {},
   "source": [
    "## Exercises for Exceptions"
   ]
  },
  {
   "cell_type": "markdown",
   "metadata": {},
   "source": [
    "1\\. Using <b>if</b>-<b>else</b> statements with no <b>try</b>-<b>except</b> statements, write a function `get_remainder` that takes two numbers `num1` and `num2` as arguments and returns the remainder of `num1` divided by `num2`. It returns \"*Zero Division!*\" if `num2` (the divisor) equals 0."
   ]
  },
  {
   "cell_type": "code",
   "execution_count": 51,
   "metadata": {},
   "outputs": [],
   "source": [
    "# Your answer here\n",
    "def get_remainder(num1, num2):\n",
    "    if num2 == 0:\n",
    "        return \"Zero Division!\"\n",
    "    \n",
    "    return num1 % num2"
   ]
  },
  {
   "cell_type": "code",
   "execution_count": 52,
   "metadata": {},
   "outputs": [
    {
     "data": {
      "text/plain": [
       "1"
      ]
     },
     "execution_count": 52,
     "metadata": {},
     "output_type": "execute_result"
    }
   ],
   "source": [
    "# Test the function here\n",
    "get_remainder(10, 3)          # Output: 1"
   ]
  },
  {
   "cell_type": "code",
   "execution_count": 53,
   "metadata": {},
   "outputs": [
    {
     "data": {
      "text/plain": [
       "'Zero Division!'"
      ]
     },
     "execution_count": 53,
     "metadata": {},
     "output_type": "execute_result"
    }
   ],
   "source": [
    "# Test the function here\n",
    "get_remainder(10, 0)          # Output: 'Zero Division!'"
   ]
  },
  {
   "cell_type": "markdown",
   "metadata": {},
   "source": [
    "2\\. Using <b>try</b>-<b>except</b> statements instead of <b>if</b>-<b>else</b> statements, write a function `get_remainder2` that works the same as `get_remainder`. In addition, it returns \"*Unexpected Error!*\" for all other exceptions. "
   ]
  },
  {
   "cell_type": "code",
   "execution_count": 73,
   "metadata": {},
   "outputs": [],
   "source": [
    "# Your answer here\n",
    "def get_remainder2(num1, num2):\n",
    "    if num2 == 0:\n",
    "        return \"Zero Division!\"    \n",
    "    try:\n",
    "        return(num1 % num2)\n",
    "    except:\n",
    "        return(\"Unexpected Error!\")"
   ]
  },
  {
   "cell_type": "code",
   "execution_count": 74,
   "metadata": {},
   "outputs": [
    {
     "data": {
      "text/plain": [
       "1"
      ]
     },
     "execution_count": 74,
     "metadata": {},
     "output_type": "execute_result"
    }
   ],
   "source": [
    "# Test the function here\n",
    "get_remainder2(10, 3)          # Output: 1"
   ]
  },
  {
   "cell_type": "code",
   "execution_count": 75,
   "metadata": {
    "scrolled": true
   },
   "outputs": [
    {
     "data": {
      "text/plain": [
       "'Zero Division!'"
      ]
     },
     "execution_count": 75,
     "metadata": {},
     "output_type": "execute_result"
    }
   ],
   "source": [
    "# Test the function here\n",
    "get_remainder2(10, 0)          # Output: 'Zero Division!'"
   ]
  },
  {
   "cell_type": "code",
   "execution_count": 76,
   "metadata": {},
   "outputs": [
    {
     "data": {
      "text/plain": [
       "'Unexpected Error!'"
      ]
     },
     "execution_count": 76,
     "metadata": {},
     "output_type": "execute_result"
    }
   ],
   "source": [
    "# Test the function here\n",
    "get_remainder2(\"a\", 3)         # Output: 'Unexpected Error!'"
   ]
  },
  {
   "cell_type": "markdown",
   "metadata": {},
   "source": [
    "3\\. Using an <b>assert</b> statement instead of <b>try</b>-<b>except</b> statements or <b>if</b>-<b>else</b> statements, write a function `get_remainder3` that works the same as `get_remainder` except that it ruturns an AssertionError printing \"*Zero Division!*\" if the divisor euqals 0. "
   ]
  },
  {
   "cell_type": "code",
   "execution_count": 85,
   "metadata": {},
   "outputs": [],
   "source": [
    "# Your answer here\n",
    "def get_remainder3(num1, num2):\n",
    "    assert (num2 != 0), \"Zero Division!\"\n",
    "    return num1 % num2  "
   ]
  },
  {
   "cell_type": "code",
   "execution_count": 86,
   "metadata": {
    "scrolled": true
   },
   "outputs": [
    {
     "ename": "AssertionError",
     "evalue": "Zero Division!",
     "output_type": "error",
     "traceback": [
      "\u001b[1;31m---------------------------------------------------------------------------\u001b[0m",
      "\u001b[1;31mAssertionError\u001b[0m                            Traceback (most recent call last)",
      "\u001b[1;32m<ipython-input-86-aa1f7110829a>\u001b[0m in \u001b[0;36m<module>\u001b[1;34m\u001b[0m\n\u001b[0;32m      1\u001b[0m \u001b[1;31m# Test the function here\u001b[0m\u001b[1;33m\u001b[0m\u001b[1;33m\u001b[0m\u001b[1;33m\u001b[0m\u001b[0m\n\u001b[1;32m----> 2\u001b[1;33m \u001b[0mget_remainder3\u001b[0m\u001b[1;33m(\u001b[0m\u001b[1;36m10\u001b[0m\u001b[1;33m,\u001b[0m \u001b[1;36m0\u001b[0m\u001b[1;33m)\u001b[0m          \u001b[1;31m# Output: AssertionError: Zero Division!\u001b[0m\u001b[1;33m\u001b[0m\u001b[1;33m\u001b[0m\u001b[0m\n\u001b[0m",
      "\u001b[1;32m<ipython-input-85-bde85371e757>\u001b[0m in \u001b[0;36mget_remainder3\u001b[1;34m(num1, num2)\u001b[0m\n\u001b[0;32m      1\u001b[0m \u001b[1;31m# Your answer here\u001b[0m\u001b[1;33m\u001b[0m\u001b[1;33m\u001b[0m\u001b[1;33m\u001b[0m\u001b[0m\n\u001b[0;32m      2\u001b[0m \u001b[1;32mdef\u001b[0m \u001b[0mget_remainder3\u001b[0m\u001b[1;33m(\u001b[0m\u001b[0mnum1\u001b[0m\u001b[1;33m,\u001b[0m \u001b[0mnum2\u001b[0m\u001b[1;33m)\u001b[0m\u001b[1;33m:\u001b[0m\u001b[1;33m\u001b[0m\u001b[1;33m\u001b[0m\u001b[0m\n\u001b[1;32m----> 3\u001b[1;33m     \u001b[1;32massert\u001b[0m \u001b[1;33m(\u001b[0m\u001b[0mnum2\u001b[0m \u001b[1;33m!=\u001b[0m \u001b[1;36m0\u001b[0m\u001b[1;33m)\u001b[0m\u001b[1;33m,\u001b[0m \u001b[1;34m\"Zero Division!\"\u001b[0m\u001b[1;33m\u001b[0m\u001b[1;33m\u001b[0m\u001b[0m\n\u001b[0m\u001b[0;32m      4\u001b[0m     \u001b[1;32mreturn\u001b[0m \u001b[0mnum1\u001b[0m \u001b[1;33m%\u001b[0m \u001b[0mnum2\u001b[0m\u001b[1;33m\u001b[0m\u001b[1;33m\u001b[0m\u001b[0m\n",
      "\u001b[1;31mAssertionError\u001b[0m: Zero Division!"
     ]
    }
   ],
   "source": [
    "# Test the function here\n",
    "get_remainder3(10, 0)          # Output: AssertionError: Zero Division!"
   ]
  },
  {
   "cell_type": "code",
   "execution_count": null,
   "metadata": {},
   "outputs": [],
   "source": []
  }
 ],
 "metadata": {
  "kernelspec": {
   "display_name": "Python 3 (ipykernel)",
   "language": "python",
   "name": "python3"
  },
  "language_info": {
   "codemirror_mode": {
    "name": "ipython",
    "version": 3
   },
   "file_extension": ".py",
   "mimetype": "text/x-python",
   "name": "python",
   "nbconvert_exporter": "python",
   "pygments_lexer": "ipython3",
   "version": "3.9.7"
  }
 },
 "nbformat": 4,
 "nbformat_minor": 1
}
